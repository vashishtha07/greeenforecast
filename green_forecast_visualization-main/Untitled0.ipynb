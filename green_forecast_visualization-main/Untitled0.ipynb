{
  "nbformat": 4,
  "nbformat_minor": 0,
  "metadata": {
    "colab": {
      "provenance": [],
      "authorship_tag": "ABX9TyNo0uQNmHiXJfiERaPIx0Kr",
      "include_colab_link": true
    },
    "kernelspec": {
      "name": "python3",
      "display_name": "Python 3"
    },
    "language_info": {
      "name": "python"
    }
  },
  "cells": [
    {
      "cell_type": "markdown",
      "metadata": {
        "id": "view-in-github",
        "colab_type": "text"
      },
      "source": [
        "<a href=\"https://colab.research.google.com/github/anonymous-ait/green_forecast_visualization/blob/main/Untitled0.ipynb\" target=\"_parent\"><img src=\"https://colab.research.google.com/assets/colab-badge.svg\" alt=\"Open In Colab\"/></a>"
      ]
    },
    {
      "cell_type": "code",
      "execution_count": 1,
      "metadata": {
        "id": "r7jEpPZb8pgp"
      },
      "outputs": [],
      "source": [
        "import numpy as np # linear algebra\n",
        "import pandas as pd # data processing, CSV file I/O (e.g. pd.read_csv)\n",
        "\n",
        "# Input data files are available in the read-only \"../input/\" directory\n",
        "# For example, running this (by clicking run or pressing Shift+Enter) will list all files under the input directory\n",
        "\n",
        "import os\n",
        "for dirname, _, filenames in os.walk('/kaggle/input'):\n",
        "    for filename in filenames:\n",
        "        print(os.path.join(dirname, filename))"
      ]
    },
    {
      "cell_type": "code",
      "source": [
        "!pip install catboost"
      ],
      "metadata": {
        "colab": {
          "base_uri": "https://localhost:8080/"
        },
        "id": "ab0ox5sX9GRi",
        "outputId": "c1c5de4f-8fe5-49c8-faf8-0ab262902eda"
      },
      "execution_count": 2,
      "outputs": [
        {
          "output_type": "stream",
          "name": "stdout",
          "text": [
            "Looking in indexes: https://pypi.org/simple, https://us-python.pkg.dev/colab-wheels/public/simple/\n",
            "Collecting catboost\n",
            "  Downloading catboost-1.2-cp310-cp310-manylinux2014_x86_64.whl (98.6 MB)\n",
            "\u001b[2K     \u001b[90m━━━━━━━━━━━━━━━━━━━━━━━━━━━━━━━━━━━━━━━━\u001b[0m \u001b[32m98.6/98.6 MB\u001b[0m \u001b[31m8.8 MB/s\u001b[0m eta \u001b[36m0:00:00\u001b[0m\n",
            "\u001b[?25hRequirement already satisfied: graphviz in /usr/local/lib/python3.10/dist-packages (from catboost) (0.20.1)\n",
            "Requirement already satisfied: matplotlib in /usr/local/lib/python3.10/dist-packages (from catboost) (3.7.1)\n",
            "Requirement already satisfied: numpy>=1.16.0 in /usr/local/lib/python3.10/dist-packages (from catboost) (1.22.4)\n",
            "Requirement already satisfied: pandas>=0.24 in /usr/local/lib/python3.10/dist-packages (from catboost) (1.5.3)\n",
            "Requirement already satisfied: scipy in /usr/local/lib/python3.10/dist-packages (from catboost) (1.10.1)\n",
            "Requirement already satisfied: plotly in /usr/local/lib/python3.10/dist-packages (from catboost) (5.13.1)\n",
            "Requirement already satisfied: six in /usr/local/lib/python3.10/dist-packages (from catboost) (1.16.0)\n",
            "Requirement already satisfied: python-dateutil>=2.8.1 in /usr/local/lib/python3.10/dist-packages (from pandas>=0.24->catboost) (2.8.2)\n",
            "Requirement already satisfied: pytz>=2020.1 in /usr/local/lib/python3.10/dist-packages (from pandas>=0.24->catboost) (2022.7.1)\n",
            "Requirement already satisfied: contourpy>=1.0.1 in /usr/local/lib/python3.10/dist-packages (from matplotlib->catboost) (1.0.7)\n",
            "Requirement already satisfied: cycler>=0.10 in /usr/local/lib/python3.10/dist-packages (from matplotlib->catboost) (0.11.0)\n",
            "Requirement already satisfied: fonttools>=4.22.0 in /usr/local/lib/python3.10/dist-packages (from matplotlib->catboost) (4.39.3)\n",
            "Requirement already satisfied: kiwisolver>=1.0.1 in /usr/local/lib/python3.10/dist-packages (from matplotlib->catboost) (1.4.4)\n",
            "Requirement already satisfied: packaging>=20.0 in /usr/local/lib/python3.10/dist-packages (from matplotlib->catboost) (23.1)\n",
            "Requirement already satisfied: pillow>=6.2.0 in /usr/local/lib/python3.10/dist-packages (from matplotlib->catboost) (8.4.0)\n",
            "Requirement already satisfied: pyparsing>=2.3.1 in /usr/local/lib/python3.10/dist-packages (from matplotlib->catboost) (3.0.9)\n",
            "Requirement already satisfied: tenacity>=6.2.0 in /usr/local/lib/python3.10/dist-packages (from plotly->catboost) (8.2.2)\n",
            "Installing collected packages: catboost\n",
            "Successfully installed catboost-1.2\n"
          ]
        }
      ]
    },
    {
      "cell_type": "code",
      "source": [
        "!pip install pmdarima"
      ],
      "metadata": {
        "colab": {
          "base_uri": "https://localhost:8080/"
        },
        "id": "GxSvAerd9NJK",
        "outputId": "ae32d997-c707-4deb-a68e-a02c2ff7dac4"
      },
      "execution_count": 3,
      "outputs": [
        {
          "output_type": "stream",
          "name": "stdout",
          "text": [
            "Looking in indexes: https://pypi.org/simple, https://us-python.pkg.dev/colab-wheels/public/simple/\n",
            "Collecting pmdarima\n",
            "  Downloading pmdarima-2.0.3-cp310-cp310-manylinux_2_17_x86_64.manylinux2014_x86_64.manylinux_2_28_x86_64.whl (1.8 MB)\n",
            "\u001b[2K     \u001b[90m━━━━━━━━━━━━━━━━━━━━━━━━━━━━━━━━━━━━━━━━\u001b[0m \u001b[32m1.8/1.8 MB\u001b[0m \u001b[31m51.9 MB/s\u001b[0m eta \u001b[36m0:00:00\u001b[0m\n",
            "\u001b[?25hRequirement already satisfied: joblib>=0.11 in /usr/local/lib/python3.10/dist-packages (from pmdarima) (1.2.0)\n",
            "Requirement already satisfied: Cython!=0.29.18,!=0.29.31,>=0.29 in /usr/local/lib/python3.10/dist-packages (from pmdarima) (0.29.34)\n",
            "Requirement already satisfied: numpy>=1.21.2 in /usr/local/lib/python3.10/dist-packages (from pmdarima) (1.22.4)\n",
            "Requirement already satisfied: pandas>=0.19 in /usr/local/lib/python3.10/dist-packages (from pmdarima) (1.5.3)\n",
            "Requirement already satisfied: scikit-learn>=0.22 in /usr/local/lib/python3.10/dist-packages (from pmdarima) (1.2.2)\n",
            "Requirement already satisfied: scipy>=1.3.2 in /usr/local/lib/python3.10/dist-packages (from pmdarima) (1.10.1)\n",
            "Requirement already satisfied: statsmodels>=0.13.2 in /usr/local/lib/python3.10/dist-packages (from pmdarima) (0.13.5)\n",
            "Requirement already satisfied: urllib3 in /usr/local/lib/python3.10/dist-packages (from pmdarima) (1.26.15)\n",
            "Requirement already satisfied: setuptools!=50.0.0,>=38.6.0 in /usr/local/lib/python3.10/dist-packages (from pmdarima) (67.7.2)\n",
            "Requirement already satisfied: python-dateutil>=2.8.1 in /usr/local/lib/python3.10/dist-packages (from pandas>=0.19->pmdarima) (2.8.2)\n",
            "Requirement already satisfied: pytz>=2020.1 in /usr/local/lib/python3.10/dist-packages (from pandas>=0.19->pmdarima) (2022.7.1)\n",
            "Requirement already satisfied: threadpoolctl>=2.0.0 in /usr/local/lib/python3.10/dist-packages (from scikit-learn>=0.22->pmdarima) (3.1.0)\n",
            "Requirement already satisfied: patsy>=0.5.2 in /usr/local/lib/python3.10/dist-packages (from statsmodels>=0.13.2->pmdarima) (0.5.3)\n",
            "Requirement already satisfied: packaging>=21.3 in /usr/local/lib/python3.10/dist-packages (from statsmodels>=0.13.2->pmdarima) (23.1)\n",
            "Requirement already satisfied: six in /usr/local/lib/python3.10/dist-packages (from patsy>=0.5.2->statsmodels>=0.13.2->pmdarima) (1.16.0)\n",
            "Installing collected packages: pmdarima\n",
            "Successfully installed pmdarima-2.0.3\n"
          ]
        }
      ]
    },
    {
      "cell_type": "code",
      "source": [
        "import os\n",
        "import math\n",
        "\n",
        "import seaborn as sns\n",
        "import matplotlib.pyplot as plt\n",
        "from datetime import datetime\n",
        "\n",
        "from sklearn.model_selection import KFold\n",
        "from catboost import CatBoostRegressor\n",
        "import lightgbm as lgb\n",
        "import xgboost as xgb\n",
        "from xgboost.sklearn import XGBRegressor\n",
        "from xgboost import plot_importance,plot_tree\n",
        "plt.style.use('fivethirtyeight')\n",
        "from sklearn.model_selection import GridSearchCV\n",
        "import pylab \n",
        "\n",
        "import statsmodels.api as sm\n",
        "from statsmodels.tsa.stattools import adfuller\n",
        "from statsmodels.graphics.tsaplots import plot_acf, plot_pacf\n",
        "from statsmodels.tsa.arima.model import ARIMA\n",
        "from statsmodels.tsa.statespace.sarimax import SARIMAX\n",
        "\n",
        "from scipy.special import boxcox, inv_boxcox\n",
        "from scipy import stats\n",
        "from pmdarima import auto_arima\n",
        "import statsmodels.api as sm\n",
        "from statsmodels.stats.outliers_influence import variance_inflation_factor\n",
        "\n",
        "import warnings\n",
        "warnings.filterwarnings('ignore')"
      ],
      "metadata": {
        "id": "nZLSCNOC9Yir"
      },
      "execution_count": 4,
      "outputs": []
    },
    {
      "cell_type": "code",
      "source": [
        "train = pd.read_csv('train_IxoE5JN.csv')\n",
        "test  = pd.read_csv('test_WudNWDM.csv')\n",
        "submission = pd.read_csv('002.csv')"
      ],
      "metadata": {
        "id": "JMd-CZiB9cpb"
      },
      "execution_count": 5,
      "outputs": []
    },
    {
      "cell_type": "code",
      "source": [
        "print(train)\n",
        "print(test)\n",
        "submission"
      ],
      "metadata": {
        "colab": {
          "base_uri": "https://localhost:8080/",
          "height": 909
        },
        "id": "KAPL_ldJ-XuR",
        "outputId": "b4fa47c6-aa7e-47e3-f61c-0971e633d977"
      },
      "execution_count": 6,
      "outputs": [
        {
          "output_type": "stream",
          "name": "stdout",
          "text": [
            "       row_id             datetime       energy\n",
            "0           1  2008-03-01 00:00:00  1259.985563\n",
            "1           2  2008-03-01 01:00:00  1095.541500\n",
            "2           3  2008-03-01 02:00:00  1056.247500\n",
            "3           4  2008-03-01 03:00:00  1034.742000\n",
            "4           5  2008-03-01 04:00:00  1026.334500\n",
            "...       ...                  ...          ...\n",
            "94987   94988  2018-12-31 19:00:00  2528.446800\n",
            "94988   94989  2018-12-31 20:00:00  2461.883600\n",
            "94989   94990  2018-12-31 21:00:00  2365.994400\n",
            "94990   94991  2018-12-31 22:00:00  2342.942800\n",
            "94991   94992  2018-12-31 23:00:00  2180.217600\n",
            "\n",
            "[94992 rows x 3 columns]\n",
            "       row_id             datetime\n",
            "0       94993  2019-01-01 00:00:00\n",
            "1       94994  2019-01-01 01:00:00\n",
            "2       94995  2019-01-01 02:00:00\n",
            "3       94996  2019-01-01 03:00:00\n",
            "4       94997  2019-01-01 04:00:00\n",
            "...       ...                  ...\n",
            "26299  121292  2021-12-31 19:00:00\n",
            "26300  121293  2021-12-31 20:00:00\n",
            "26301  121294  2021-12-31 21:00:00\n",
            "26302  121295  2021-12-31 22:00:00\n",
            "26303  121296  2021-12-31 23:00:00\n",
            "\n",
            "[26304 rows x 2 columns]\n"
          ]
        },
        {
          "output_type": "execute_result",
          "data": {
            "text/plain": [
              "       row_id       energy\n",
              "0       94993  1702.995014\n",
              "1       94994  1702.995014\n",
              "2       94995  1702.995014\n",
              "3       94996  1702.995014\n",
              "4       94997  1702.995014\n",
              "...       ...          ...\n",
              "26299  121292  1702.995014\n",
              "26300  121293  1702.995014\n",
              "26301  121294  1702.995014\n",
              "26302  121295  1702.995014\n",
              "26303  121296  1702.995014\n",
              "\n",
              "[26304 rows x 2 columns]"
            ],
            "text/html": [
              "\n",
              "  <div id=\"df-087895ca-9897-42e0-9759-e579081356a8\">\n",
              "    <div class=\"colab-df-container\">\n",
              "      <div>\n",
              "<style scoped>\n",
              "    .dataframe tbody tr th:only-of-type {\n",
              "        vertical-align: middle;\n",
              "    }\n",
              "\n",
              "    .dataframe tbody tr th {\n",
              "        vertical-align: top;\n",
              "    }\n",
              "\n",
              "    .dataframe thead th {\n",
              "        text-align: right;\n",
              "    }\n",
              "</style>\n",
              "<table border=\"1\" class=\"dataframe\">\n",
              "  <thead>\n",
              "    <tr style=\"text-align: right;\">\n",
              "      <th></th>\n",
              "      <th>row_id</th>\n",
              "      <th>energy</th>\n",
              "    </tr>\n",
              "  </thead>\n",
              "  <tbody>\n",
              "    <tr>\n",
              "      <th>0</th>\n",
              "      <td>94993</td>\n",
              "      <td>1702.995014</td>\n",
              "    </tr>\n",
              "    <tr>\n",
              "      <th>1</th>\n",
              "      <td>94994</td>\n",
              "      <td>1702.995014</td>\n",
              "    </tr>\n",
              "    <tr>\n",
              "      <th>2</th>\n",
              "      <td>94995</td>\n",
              "      <td>1702.995014</td>\n",
              "    </tr>\n",
              "    <tr>\n",
              "      <th>3</th>\n",
              "      <td>94996</td>\n",
              "      <td>1702.995014</td>\n",
              "    </tr>\n",
              "    <tr>\n",
              "      <th>4</th>\n",
              "      <td>94997</td>\n",
              "      <td>1702.995014</td>\n",
              "    </tr>\n",
              "    <tr>\n",
              "      <th>...</th>\n",
              "      <td>...</td>\n",
              "      <td>...</td>\n",
              "    </tr>\n",
              "    <tr>\n",
              "      <th>26299</th>\n",
              "      <td>121292</td>\n",
              "      <td>1702.995014</td>\n",
              "    </tr>\n",
              "    <tr>\n",
              "      <th>26300</th>\n",
              "      <td>121293</td>\n",
              "      <td>1702.995014</td>\n",
              "    </tr>\n",
              "    <tr>\n",
              "      <th>26301</th>\n",
              "      <td>121294</td>\n",
              "      <td>1702.995014</td>\n",
              "    </tr>\n",
              "    <tr>\n",
              "      <th>26302</th>\n",
              "      <td>121295</td>\n",
              "      <td>1702.995014</td>\n",
              "    </tr>\n",
              "    <tr>\n",
              "      <th>26303</th>\n",
              "      <td>121296</td>\n",
              "      <td>1702.995014</td>\n",
              "    </tr>\n",
              "  </tbody>\n",
              "</table>\n",
              "<p>26304 rows × 2 columns</p>\n",
              "</div>\n",
              "      <button class=\"colab-df-convert\" onclick=\"convertToInteractive('df-087895ca-9897-42e0-9759-e579081356a8')\"\n",
              "              title=\"Convert this dataframe to an interactive table.\"\n",
              "              style=\"display:none;\">\n",
              "        \n",
              "  <svg xmlns=\"http://www.w3.org/2000/svg\" height=\"24px\"viewBox=\"0 0 24 24\"\n",
              "       width=\"24px\">\n",
              "    <path d=\"M0 0h24v24H0V0z\" fill=\"none\"/>\n",
              "    <path d=\"M18.56 5.44l.94 2.06.94-2.06 2.06-.94-2.06-.94-.94-2.06-.94 2.06-2.06.94zm-11 1L8.5 8.5l.94-2.06 2.06-.94-2.06-.94L8.5 2.5l-.94 2.06-2.06.94zm10 10l.94 2.06.94-2.06 2.06-.94-2.06-.94-.94-2.06-.94 2.06-2.06.94z\"/><path d=\"M17.41 7.96l-1.37-1.37c-.4-.4-.92-.59-1.43-.59-.52 0-1.04.2-1.43.59L10.3 9.45l-7.72 7.72c-.78.78-.78 2.05 0 2.83L4 21.41c.39.39.9.59 1.41.59.51 0 1.02-.2 1.41-.59l7.78-7.78 2.81-2.81c.8-.78.8-2.07 0-2.86zM5.41 20L4 18.59l7.72-7.72 1.47 1.35L5.41 20z\"/>\n",
              "  </svg>\n",
              "      </button>\n",
              "      \n",
              "  <style>\n",
              "    .colab-df-container {\n",
              "      display:flex;\n",
              "      flex-wrap:wrap;\n",
              "      gap: 12px;\n",
              "    }\n",
              "\n",
              "    .colab-df-convert {\n",
              "      background-color: #E8F0FE;\n",
              "      border: none;\n",
              "      border-radius: 50%;\n",
              "      cursor: pointer;\n",
              "      display: none;\n",
              "      fill: #1967D2;\n",
              "      height: 32px;\n",
              "      padding: 0 0 0 0;\n",
              "      width: 32px;\n",
              "    }\n",
              "\n",
              "    .colab-df-convert:hover {\n",
              "      background-color: #E2EBFA;\n",
              "      box-shadow: 0px 1px 2px rgba(60, 64, 67, 0.3), 0px 1px 3px 1px rgba(60, 64, 67, 0.15);\n",
              "      fill: #174EA6;\n",
              "    }\n",
              "\n",
              "    [theme=dark] .colab-df-convert {\n",
              "      background-color: #3B4455;\n",
              "      fill: #D2E3FC;\n",
              "    }\n",
              "\n",
              "    [theme=dark] .colab-df-convert:hover {\n",
              "      background-color: #434B5C;\n",
              "      box-shadow: 0px 1px 3px 1px rgba(0, 0, 0, 0.15);\n",
              "      filter: drop-shadow(0px 1px 2px rgba(0, 0, 0, 0.3));\n",
              "      fill: #FFFFFF;\n",
              "    }\n",
              "  </style>\n",
              "\n",
              "      <script>\n",
              "        const buttonEl =\n",
              "          document.querySelector('#df-087895ca-9897-42e0-9759-e579081356a8 button.colab-df-convert');\n",
              "        buttonEl.style.display =\n",
              "          google.colab.kernel.accessAllowed ? 'block' : 'none';\n",
              "\n",
              "        async function convertToInteractive(key) {\n",
              "          const element = document.querySelector('#df-087895ca-9897-42e0-9759-e579081356a8');\n",
              "          const dataTable =\n",
              "            await google.colab.kernel.invokeFunction('convertToInteractive',\n",
              "                                                     [key], {});\n",
              "          if (!dataTable) return;\n",
              "\n",
              "          const docLinkHtml = 'Like what you see? Visit the ' +\n",
              "            '<a target=\"_blank\" href=https://colab.research.google.com/notebooks/data_table.ipynb>data table notebook</a>'\n",
              "            + ' to learn more about interactive tables.';\n",
              "          element.innerHTML = '';\n",
              "          dataTable['output_type'] = 'display_data';\n",
              "          await google.colab.output.renderOutput(dataTable, element);\n",
              "          const docLink = document.createElement('div');\n",
              "          docLink.innerHTML = docLinkHtml;\n",
              "          element.appendChild(docLink);\n",
              "        }\n",
              "      </script>\n",
              "    </div>\n",
              "  </div>\n",
              "  "
            ]
          },
          "metadata": {},
          "execution_count": 6
        }
      ]
    },
    {
      "cell_type": "code",
      "source": [
        "print(\"Training data shape : \",train.shape)\n",
        "print(\"Test data shape : \",test.shape)"
      ],
      "metadata": {
        "colab": {
          "base_uri": "https://localhost:8080/"
        },
        "id": "p9AYUtFg-bC7",
        "outputId": "b9f6ffb3-ef6e-4ecc-aee1-ed49d0c5faec"
      },
      "execution_count": 7,
      "outputs": [
        {
          "output_type": "stream",
          "name": "stdout",
          "text": [
            "Training data shape :  (94992, 3)\n",
            "Test data shape :  (26304, 2)\n"
          ]
        }
      ]
    },
    {
      "cell_type": "code",
      "source": [
        "train.isnull().sum()"
      ],
      "metadata": {
        "colab": {
          "base_uri": "https://localhost:8080/"
        },
        "id": "HAmaQZxU-h7r",
        "outputId": "e4fc4799-ccbe-46b6-8fa1-75abb7a5d1b2"
      },
      "execution_count": 8,
      "outputs": [
        {
          "output_type": "execute_result",
          "data": {
            "text/plain": [
              "row_id         0\n",
              "datetime       0\n",
              "energy      1900\n",
              "dtype: int64"
            ]
          },
          "metadata": {},
          "execution_count": 8
        }
      ]
    },
    {
      "cell_type": "code",
      "source": [
        "test.isnull().sum()"
      ],
      "metadata": {
        "colab": {
          "base_uri": "https://localhost:8080/"
        },
        "id": "W25KS8p2-qKK",
        "outputId": "cfa2a976-705f-4f57-d1f5-c2525e84239e"
      },
      "execution_count": 9,
      "outputs": [
        {
          "output_type": "execute_result",
          "data": {
            "text/plain": [
              "row_id      0\n",
              "datetime    0\n",
              "dtype: int64"
            ]
          },
          "metadata": {},
          "execution_count": 9
        }
      ]
    },
    {
      "cell_type": "code",
      "source": [
        "train['energy']= train['energy'].replace(0,train['energy'].mean())"
      ],
      "metadata": {
        "id": "L0CtsOIW-r_F"
      },
      "execution_count": 10,
      "outputs": []
    },
    {
      "cell_type": "code",
      "source": [
        "df1 = train.isnull().sum()"
      ],
      "metadata": {
        "id": "L5Ryo1u9-z1v"
      },
      "execution_count": 11,
      "outputs": []
    },
    {
      "cell_type": "code",
      "source": [
        "train.describe()"
      ],
      "metadata": {
        "colab": {
          "base_uri": "https://localhost:8080/",
          "height": 300
        },
        "id": "Ugu5-vsv-11_",
        "outputId": "fc57ab46-ac6d-4b8b-8287-99e439caa24a"
      },
      "execution_count": 12,
      "outputs": [
        {
          "output_type": "execute_result",
          "data": {
            "text/plain": [
              "             row_id        energy\n",
              "count  94992.000000  93092.000000\n",
              "mean   47496.500000   1702.995014\n",
              "std    27421.972723    369.322103\n",
              "min        1.000000    866.388600\n",
              "25%    23748.750000   1431.541100\n",
              "50%    47496.500000   1654.465800\n",
              "75%    71244.250000   1935.993450\n",
              "max    94992.000000   3374.399600"
            ],
            "text/html": [
              "\n",
              "  <div id=\"df-c269d212-da81-4792-81e6-a63060684a56\">\n",
              "    <div class=\"colab-df-container\">\n",
              "      <div>\n",
              "<style scoped>\n",
              "    .dataframe tbody tr th:only-of-type {\n",
              "        vertical-align: middle;\n",
              "    }\n",
              "\n",
              "    .dataframe tbody tr th {\n",
              "        vertical-align: top;\n",
              "    }\n",
              "\n",
              "    .dataframe thead th {\n",
              "        text-align: right;\n",
              "    }\n",
              "</style>\n",
              "<table border=\"1\" class=\"dataframe\">\n",
              "  <thead>\n",
              "    <tr style=\"text-align: right;\">\n",
              "      <th></th>\n",
              "      <th>row_id</th>\n",
              "      <th>energy</th>\n",
              "    </tr>\n",
              "  </thead>\n",
              "  <tbody>\n",
              "    <tr>\n",
              "      <th>count</th>\n",
              "      <td>94992.000000</td>\n",
              "      <td>93092.000000</td>\n",
              "    </tr>\n",
              "    <tr>\n",
              "      <th>mean</th>\n",
              "      <td>47496.500000</td>\n",
              "      <td>1702.995014</td>\n",
              "    </tr>\n",
              "    <tr>\n",
              "      <th>std</th>\n",
              "      <td>27421.972723</td>\n",
              "      <td>369.322103</td>\n",
              "    </tr>\n",
              "    <tr>\n",
              "      <th>min</th>\n",
              "      <td>1.000000</td>\n",
              "      <td>866.388600</td>\n",
              "    </tr>\n",
              "    <tr>\n",
              "      <th>25%</th>\n",
              "      <td>23748.750000</td>\n",
              "      <td>1431.541100</td>\n",
              "    </tr>\n",
              "    <tr>\n",
              "      <th>50%</th>\n",
              "      <td>47496.500000</td>\n",
              "      <td>1654.465800</td>\n",
              "    </tr>\n",
              "    <tr>\n",
              "      <th>75%</th>\n",
              "      <td>71244.250000</td>\n",
              "      <td>1935.993450</td>\n",
              "    </tr>\n",
              "    <tr>\n",
              "      <th>max</th>\n",
              "      <td>94992.000000</td>\n",
              "      <td>3374.399600</td>\n",
              "    </tr>\n",
              "  </tbody>\n",
              "</table>\n",
              "</div>\n",
              "      <button class=\"colab-df-convert\" onclick=\"convertToInteractive('df-c269d212-da81-4792-81e6-a63060684a56')\"\n",
              "              title=\"Convert this dataframe to an interactive table.\"\n",
              "              style=\"display:none;\">\n",
              "        \n",
              "  <svg xmlns=\"http://www.w3.org/2000/svg\" height=\"24px\"viewBox=\"0 0 24 24\"\n",
              "       width=\"24px\">\n",
              "    <path d=\"M0 0h24v24H0V0z\" fill=\"none\"/>\n",
              "    <path d=\"M18.56 5.44l.94 2.06.94-2.06 2.06-.94-2.06-.94-.94-2.06-.94 2.06-2.06.94zm-11 1L8.5 8.5l.94-2.06 2.06-.94-2.06-.94L8.5 2.5l-.94 2.06-2.06.94zm10 10l.94 2.06.94-2.06 2.06-.94-2.06-.94-.94-2.06-.94 2.06-2.06.94z\"/><path d=\"M17.41 7.96l-1.37-1.37c-.4-.4-.92-.59-1.43-.59-.52 0-1.04.2-1.43.59L10.3 9.45l-7.72 7.72c-.78.78-.78 2.05 0 2.83L4 21.41c.39.39.9.59 1.41.59.51 0 1.02-.2 1.41-.59l7.78-7.78 2.81-2.81c.8-.78.8-2.07 0-2.86zM5.41 20L4 18.59l7.72-7.72 1.47 1.35L5.41 20z\"/>\n",
              "  </svg>\n",
              "      </button>\n",
              "      \n",
              "  <style>\n",
              "    .colab-df-container {\n",
              "      display:flex;\n",
              "      flex-wrap:wrap;\n",
              "      gap: 12px;\n",
              "    }\n",
              "\n",
              "    .colab-df-convert {\n",
              "      background-color: #E8F0FE;\n",
              "      border: none;\n",
              "      border-radius: 50%;\n",
              "      cursor: pointer;\n",
              "      display: none;\n",
              "      fill: #1967D2;\n",
              "      height: 32px;\n",
              "      padding: 0 0 0 0;\n",
              "      width: 32px;\n",
              "    }\n",
              "\n",
              "    .colab-df-convert:hover {\n",
              "      background-color: #E2EBFA;\n",
              "      box-shadow: 0px 1px 2px rgba(60, 64, 67, 0.3), 0px 1px 3px 1px rgba(60, 64, 67, 0.15);\n",
              "      fill: #174EA6;\n",
              "    }\n",
              "\n",
              "    [theme=dark] .colab-df-convert {\n",
              "      background-color: #3B4455;\n",
              "      fill: #D2E3FC;\n",
              "    }\n",
              "\n",
              "    [theme=dark] .colab-df-convert:hover {\n",
              "      background-color: #434B5C;\n",
              "      box-shadow: 0px 1px 3px 1px rgba(0, 0, 0, 0.15);\n",
              "      filter: drop-shadow(0px 1px 2px rgba(0, 0, 0, 0.3));\n",
              "      fill: #FFFFFF;\n",
              "    }\n",
              "  </style>\n",
              "\n",
              "      <script>\n",
              "        const buttonEl =\n",
              "          document.querySelector('#df-c269d212-da81-4792-81e6-a63060684a56 button.colab-df-convert');\n",
              "        buttonEl.style.display =\n",
              "          google.colab.kernel.accessAllowed ? 'block' : 'none';\n",
              "\n",
              "        async function convertToInteractive(key) {\n",
              "          const element = document.querySelector('#df-c269d212-da81-4792-81e6-a63060684a56');\n",
              "          const dataTable =\n",
              "            await google.colab.kernel.invokeFunction('convertToInteractive',\n",
              "                                                     [key], {});\n",
              "          if (!dataTable) return;\n",
              "\n",
              "          const docLinkHtml = 'Like what you see? Visit the ' +\n",
              "            '<a target=\"_blank\" href=https://colab.research.google.com/notebooks/data_table.ipynb>data table notebook</a>'\n",
              "            + ' to learn more about interactive tables.';\n",
              "          element.innerHTML = '';\n",
              "          dataTable['output_type'] = 'display_data';\n",
              "          await google.colab.output.renderOutput(dataTable, element);\n",
              "          const docLink = document.createElement('div');\n",
              "          docLink.innerHTML = docLinkHtml;\n",
              "          element.appendChild(docLink);\n",
              "        }\n",
              "      </script>\n",
              "    </div>\n",
              "  </div>\n",
              "  "
            ]
          },
          "metadata": {},
          "execution_count": 12
        }
      ]
    },
    {
      "cell_type": "code",
      "source": [
        "tr = pd.isna(train['energy']).count\n",
        "tr"
      ],
      "metadata": {
        "colab": {
          "base_uri": "https://localhost:8080/"
        },
        "id": "sjLCFALb-5f9",
        "outputId": "179c0d19-2ff2-4ebd-fea1-62f5c5c2ba09"
      },
      "execution_count": 13,
      "outputs": [
        {
          "output_type": "execute_result",
          "data": {
            "text/plain": [
              "<bound method Series.count of 0        False\n",
              "1        False\n",
              "2        False\n",
              "3        False\n",
              "4        False\n",
              "         ...  \n",
              "94987    False\n",
              "94988    False\n",
              "94989    False\n",
              "94990    False\n",
              "94991    False\n",
              "Name: energy, Length: 94992, dtype: bool>"
            ]
          },
          "metadata": {},
          "execution_count": 13
        }
      ]
    },
    {
      "cell_type": "code",
      "source": [
        "train.datetime\n",
        "print(test.datetime)"
      ],
      "metadata": {
        "colab": {
          "base_uri": "https://localhost:8080/"
        },
        "id": "nltBchyr--Fa",
        "outputId": "48e4a0e8-6c08-40df-b565-a1edf1c0523d"
      },
      "execution_count": 14,
      "outputs": [
        {
          "output_type": "stream",
          "name": "stdout",
          "text": [
            "0        2019-01-01 00:00:00\n",
            "1        2019-01-01 01:00:00\n",
            "2        2019-01-01 02:00:00\n",
            "3        2019-01-01 03:00:00\n",
            "4        2019-01-01 04:00:00\n",
            "                ...         \n",
            "26299    2021-12-31 19:00:00\n",
            "26300    2021-12-31 20:00:00\n",
            "26301    2021-12-31 21:00:00\n",
            "26302    2021-12-31 22:00:00\n",
            "26303    2021-12-31 23:00:00\n",
            "Name: datetime, Length: 26304, dtype: object\n"
          ]
        }
      ]
    },
    {
      "cell_type": "code",
      "source": [
        "train['date'] = pd.to_datetime(train['datetime']).dt.date\n",
        "train['Hour'] = pd.to_datetime(train['datetime']).dt.hour\n",
        "print(train)\n",
        "print(train.dtypes)"
      ],
      "metadata": {
        "colab": {
          "base_uri": "https://localhost:8080/"
        },
        "id": "6fASfdLP_EkI",
        "outputId": "fae92191-850d-4233-c9dc-8a779b1f4a77"
      },
      "execution_count": 15,
      "outputs": [
        {
          "output_type": "stream",
          "name": "stdout",
          "text": [
            "       row_id             datetime       energy        date  Hour\n",
            "0           1  2008-03-01 00:00:00  1259.985563  2008-03-01     0\n",
            "1           2  2008-03-01 01:00:00  1095.541500  2008-03-01     1\n",
            "2           3  2008-03-01 02:00:00  1056.247500  2008-03-01     2\n",
            "3           4  2008-03-01 03:00:00  1034.742000  2008-03-01     3\n",
            "4           5  2008-03-01 04:00:00  1026.334500  2008-03-01     4\n",
            "...       ...                  ...          ...         ...   ...\n",
            "94987   94988  2018-12-31 19:00:00  2528.446800  2018-12-31    19\n",
            "94988   94989  2018-12-31 20:00:00  2461.883600  2018-12-31    20\n",
            "94989   94990  2018-12-31 21:00:00  2365.994400  2018-12-31    21\n",
            "94990   94991  2018-12-31 22:00:00  2342.942800  2018-12-31    22\n",
            "94991   94992  2018-12-31 23:00:00  2180.217600  2018-12-31    23\n",
            "\n",
            "[94992 rows x 5 columns]\n",
            "row_id        int64\n",
            "datetime     object\n",
            "energy      float64\n",
            "date         object\n",
            "Hour          int64\n",
            "dtype: object\n"
          ]
        }
      ]
    },
    {
      "cell_type": "code",
      "source": [
        "test['date'] = pd.to_datetime(test['datetime']).dt.date\n",
        "test['Hour'] = pd.to_datetime(test['datetime']).dt.hour\n",
        "print(test)\n",
        "print(test.dtypes)"
      ],
      "metadata": {
        "colab": {
          "base_uri": "https://localhost:8080/"
        },
        "id": "iiVEkVcB_Ls8",
        "outputId": "11f9c69f-a158-43b1-9815-3e5a95ead23d"
      },
      "execution_count": 16,
      "outputs": [
        {
          "output_type": "stream",
          "name": "stdout",
          "text": [
            "       row_id             datetime        date  Hour\n",
            "0       94993  2019-01-01 00:00:00  2019-01-01     0\n",
            "1       94994  2019-01-01 01:00:00  2019-01-01     1\n",
            "2       94995  2019-01-01 02:00:00  2019-01-01     2\n",
            "3       94996  2019-01-01 03:00:00  2019-01-01     3\n",
            "4       94997  2019-01-01 04:00:00  2019-01-01     4\n",
            "...       ...                  ...         ...   ...\n",
            "26299  121292  2021-12-31 19:00:00  2021-12-31    19\n",
            "26300  121293  2021-12-31 20:00:00  2021-12-31    20\n",
            "26301  121294  2021-12-31 21:00:00  2021-12-31    21\n",
            "26302  121295  2021-12-31 22:00:00  2021-12-31    22\n",
            "26303  121296  2021-12-31 23:00:00  2021-12-31    23\n",
            "\n",
            "[26304 rows x 4 columns]\n",
            "row_id       int64\n",
            "datetime    object\n",
            "date        object\n",
            "Hour         int64\n",
            "dtype: object\n"
          ]
        }
      ]
    },
    {
      "cell_type": "code",
      "source": [
        "df = train.copy()\n",
        "df"
      ],
      "metadata": {
        "colab": {
          "base_uri": "https://localhost:8080/",
          "height": 423
        },
        "id": "db7-P88f_SYQ",
        "outputId": "b02bd7ee-8f66-4157-9b0c-aa3dcf01de71"
      },
      "execution_count": 17,
      "outputs": [
        {
          "output_type": "execute_result",
          "data": {
            "text/plain": [
              "       row_id             datetime       energy        date  Hour\n",
              "0           1  2008-03-01 00:00:00  1259.985563  2008-03-01     0\n",
              "1           2  2008-03-01 01:00:00  1095.541500  2008-03-01     1\n",
              "2           3  2008-03-01 02:00:00  1056.247500  2008-03-01     2\n",
              "3           4  2008-03-01 03:00:00  1034.742000  2008-03-01     3\n",
              "4           5  2008-03-01 04:00:00  1026.334500  2008-03-01     4\n",
              "...       ...                  ...          ...         ...   ...\n",
              "94987   94988  2018-12-31 19:00:00  2528.446800  2018-12-31    19\n",
              "94988   94989  2018-12-31 20:00:00  2461.883600  2018-12-31    20\n",
              "94989   94990  2018-12-31 21:00:00  2365.994400  2018-12-31    21\n",
              "94990   94991  2018-12-31 22:00:00  2342.942800  2018-12-31    22\n",
              "94991   94992  2018-12-31 23:00:00  2180.217600  2018-12-31    23\n",
              "\n",
              "[94992 rows x 5 columns]"
            ],
            "text/html": [
              "\n",
              "  <div id=\"df-052bfb90-5da1-4012-8224-ec50ebaac1ff\">\n",
              "    <div class=\"colab-df-container\">\n",
              "      <div>\n",
              "<style scoped>\n",
              "    .dataframe tbody tr th:only-of-type {\n",
              "        vertical-align: middle;\n",
              "    }\n",
              "\n",
              "    .dataframe tbody tr th {\n",
              "        vertical-align: top;\n",
              "    }\n",
              "\n",
              "    .dataframe thead th {\n",
              "        text-align: right;\n",
              "    }\n",
              "</style>\n",
              "<table border=\"1\" class=\"dataframe\">\n",
              "  <thead>\n",
              "    <tr style=\"text-align: right;\">\n",
              "      <th></th>\n",
              "      <th>row_id</th>\n",
              "      <th>datetime</th>\n",
              "      <th>energy</th>\n",
              "      <th>date</th>\n",
              "      <th>Hour</th>\n",
              "    </tr>\n",
              "  </thead>\n",
              "  <tbody>\n",
              "    <tr>\n",
              "      <th>0</th>\n",
              "      <td>1</td>\n",
              "      <td>2008-03-01 00:00:00</td>\n",
              "      <td>1259.985563</td>\n",
              "      <td>2008-03-01</td>\n",
              "      <td>0</td>\n",
              "    </tr>\n",
              "    <tr>\n",
              "      <th>1</th>\n",
              "      <td>2</td>\n",
              "      <td>2008-03-01 01:00:00</td>\n",
              "      <td>1095.541500</td>\n",
              "      <td>2008-03-01</td>\n",
              "      <td>1</td>\n",
              "    </tr>\n",
              "    <tr>\n",
              "      <th>2</th>\n",
              "      <td>3</td>\n",
              "      <td>2008-03-01 02:00:00</td>\n",
              "      <td>1056.247500</td>\n",
              "      <td>2008-03-01</td>\n",
              "      <td>2</td>\n",
              "    </tr>\n",
              "    <tr>\n",
              "      <th>3</th>\n",
              "      <td>4</td>\n",
              "      <td>2008-03-01 03:00:00</td>\n",
              "      <td>1034.742000</td>\n",
              "      <td>2008-03-01</td>\n",
              "      <td>3</td>\n",
              "    </tr>\n",
              "    <tr>\n",
              "      <th>4</th>\n",
              "      <td>5</td>\n",
              "      <td>2008-03-01 04:00:00</td>\n",
              "      <td>1026.334500</td>\n",
              "      <td>2008-03-01</td>\n",
              "      <td>4</td>\n",
              "    </tr>\n",
              "    <tr>\n",
              "      <th>...</th>\n",
              "      <td>...</td>\n",
              "      <td>...</td>\n",
              "      <td>...</td>\n",
              "      <td>...</td>\n",
              "      <td>...</td>\n",
              "    </tr>\n",
              "    <tr>\n",
              "      <th>94987</th>\n",
              "      <td>94988</td>\n",
              "      <td>2018-12-31 19:00:00</td>\n",
              "      <td>2528.446800</td>\n",
              "      <td>2018-12-31</td>\n",
              "      <td>19</td>\n",
              "    </tr>\n",
              "    <tr>\n",
              "      <th>94988</th>\n",
              "      <td>94989</td>\n",
              "      <td>2018-12-31 20:00:00</td>\n",
              "      <td>2461.883600</td>\n",
              "      <td>2018-12-31</td>\n",
              "      <td>20</td>\n",
              "    </tr>\n",
              "    <tr>\n",
              "      <th>94989</th>\n",
              "      <td>94990</td>\n",
              "      <td>2018-12-31 21:00:00</td>\n",
              "      <td>2365.994400</td>\n",
              "      <td>2018-12-31</td>\n",
              "      <td>21</td>\n",
              "    </tr>\n",
              "    <tr>\n",
              "      <th>94990</th>\n",
              "      <td>94991</td>\n",
              "      <td>2018-12-31 22:00:00</td>\n",
              "      <td>2342.942800</td>\n",
              "      <td>2018-12-31</td>\n",
              "      <td>22</td>\n",
              "    </tr>\n",
              "    <tr>\n",
              "      <th>94991</th>\n",
              "      <td>94992</td>\n",
              "      <td>2018-12-31 23:00:00</td>\n",
              "      <td>2180.217600</td>\n",
              "      <td>2018-12-31</td>\n",
              "      <td>23</td>\n",
              "    </tr>\n",
              "  </tbody>\n",
              "</table>\n",
              "<p>94992 rows × 5 columns</p>\n",
              "</div>\n",
              "      <button class=\"colab-df-convert\" onclick=\"convertToInteractive('df-052bfb90-5da1-4012-8224-ec50ebaac1ff')\"\n",
              "              title=\"Convert this dataframe to an interactive table.\"\n",
              "              style=\"display:none;\">\n",
              "        \n",
              "  <svg xmlns=\"http://www.w3.org/2000/svg\" height=\"24px\"viewBox=\"0 0 24 24\"\n",
              "       width=\"24px\">\n",
              "    <path d=\"M0 0h24v24H0V0z\" fill=\"none\"/>\n",
              "    <path d=\"M18.56 5.44l.94 2.06.94-2.06 2.06-.94-2.06-.94-.94-2.06-.94 2.06-2.06.94zm-11 1L8.5 8.5l.94-2.06 2.06-.94-2.06-.94L8.5 2.5l-.94 2.06-2.06.94zm10 10l.94 2.06.94-2.06 2.06-.94-2.06-.94-.94-2.06-.94 2.06-2.06.94z\"/><path d=\"M17.41 7.96l-1.37-1.37c-.4-.4-.92-.59-1.43-.59-.52 0-1.04.2-1.43.59L10.3 9.45l-7.72 7.72c-.78.78-.78 2.05 0 2.83L4 21.41c.39.39.9.59 1.41.59.51 0 1.02-.2 1.41-.59l7.78-7.78 2.81-2.81c.8-.78.8-2.07 0-2.86zM5.41 20L4 18.59l7.72-7.72 1.47 1.35L5.41 20z\"/>\n",
              "  </svg>\n",
              "      </button>\n",
              "      \n",
              "  <style>\n",
              "    .colab-df-container {\n",
              "      display:flex;\n",
              "      flex-wrap:wrap;\n",
              "      gap: 12px;\n",
              "    }\n",
              "\n",
              "    .colab-df-convert {\n",
              "      background-color: #E8F0FE;\n",
              "      border: none;\n",
              "      border-radius: 50%;\n",
              "      cursor: pointer;\n",
              "      display: none;\n",
              "      fill: #1967D2;\n",
              "      height: 32px;\n",
              "      padding: 0 0 0 0;\n",
              "      width: 32px;\n",
              "    }\n",
              "\n",
              "    .colab-df-convert:hover {\n",
              "      background-color: #E2EBFA;\n",
              "      box-shadow: 0px 1px 2px rgba(60, 64, 67, 0.3), 0px 1px 3px 1px rgba(60, 64, 67, 0.15);\n",
              "      fill: #174EA6;\n",
              "    }\n",
              "\n",
              "    [theme=dark] .colab-df-convert {\n",
              "      background-color: #3B4455;\n",
              "      fill: #D2E3FC;\n",
              "    }\n",
              "\n",
              "    [theme=dark] .colab-df-convert:hover {\n",
              "      background-color: #434B5C;\n",
              "      box-shadow: 0px 1px 3px 1px rgba(0, 0, 0, 0.15);\n",
              "      filter: drop-shadow(0px 1px 2px rgba(0, 0, 0, 0.3));\n",
              "      fill: #FFFFFF;\n",
              "    }\n",
              "  </style>\n",
              "\n",
              "      <script>\n",
              "        const buttonEl =\n",
              "          document.querySelector('#df-052bfb90-5da1-4012-8224-ec50ebaac1ff button.colab-df-convert');\n",
              "        buttonEl.style.display =\n",
              "          google.colab.kernel.accessAllowed ? 'block' : 'none';\n",
              "\n",
              "        async function convertToInteractive(key) {\n",
              "          const element = document.querySelector('#df-052bfb90-5da1-4012-8224-ec50ebaac1ff');\n",
              "          const dataTable =\n",
              "            await google.colab.kernel.invokeFunction('convertToInteractive',\n",
              "                                                     [key], {});\n",
              "          if (!dataTable) return;\n",
              "\n",
              "          const docLinkHtml = 'Like what you see? Visit the ' +\n",
              "            '<a target=\"_blank\" href=https://colab.research.google.com/notebooks/data_table.ipynb>data table notebook</a>'\n",
              "            + ' to learn more about interactive tables.';\n",
              "          element.innerHTML = '';\n",
              "          dataTable['output_type'] = 'display_data';\n",
              "          await google.colab.output.renderOutput(dataTable, element);\n",
              "          const docLink = document.createElement('div');\n",
              "          docLink.innerHTML = docLinkHtml;\n",
              "          element.appendChild(docLink);\n",
              "        }\n",
              "      </script>\n",
              "    </div>\n",
              "  </div>\n",
              "  "
            ]
          },
          "metadata": {},
          "execution_count": 17
        }
      ]
    },
    {
      "cell_type": "code",
      "source": [
        "df_filter = df.isin([np.nan, np.inf, -np.inf])\n",
        "  \n",
        "# Masking df with the filter\n",
        "df = df[~df_filter]\n",
        "  \n",
        "# Dropping rows with nan values\n",
        "df.dropna(inplace=True)\n",
        "  \n",
        "# Printing df\n",
        "df"
      ],
      "metadata": {
        "colab": {
          "base_uri": "https://localhost:8080/",
          "height": 423
        },
        "id": "zMPPU95V_VmY",
        "outputId": "13f79284-744e-4560-fd7c-1a5252c5d22f"
      },
      "execution_count": 18,
      "outputs": [
        {
          "output_type": "execute_result",
          "data": {
            "text/plain": [
              "       row_id             datetime       energy        date  Hour\n",
              "0           1  2008-03-01 00:00:00  1259.985563  2008-03-01     0\n",
              "1           2  2008-03-01 01:00:00  1095.541500  2008-03-01     1\n",
              "2           3  2008-03-01 02:00:00  1056.247500  2008-03-01     2\n",
              "3           4  2008-03-01 03:00:00  1034.742000  2008-03-01     3\n",
              "4           5  2008-03-01 04:00:00  1026.334500  2008-03-01     4\n",
              "...       ...                  ...          ...         ...   ...\n",
              "94987   94988  2018-12-31 19:00:00  2528.446800  2018-12-31    19\n",
              "94988   94989  2018-12-31 20:00:00  2461.883600  2018-12-31    20\n",
              "94989   94990  2018-12-31 21:00:00  2365.994400  2018-12-31    21\n",
              "94990   94991  2018-12-31 22:00:00  2342.942800  2018-12-31    22\n",
              "94991   94992  2018-12-31 23:00:00  2180.217600  2018-12-31    23\n",
              "\n",
              "[93092 rows x 5 columns]"
            ],
            "text/html": [
              "\n",
              "  <div id=\"df-0f2e0c39-2ec1-445a-8d21-282f00dcf8e8\">\n",
              "    <div class=\"colab-df-container\">\n",
              "      <div>\n",
              "<style scoped>\n",
              "    .dataframe tbody tr th:only-of-type {\n",
              "        vertical-align: middle;\n",
              "    }\n",
              "\n",
              "    .dataframe tbody tr th {\n",
              "        vertical-align: top;\n",
              "    }\n",
              "\n",
              "    .dataframe thead th {\n",
              "        text-align: right;\n",
              "    }\n",
              "</style>\n",
              "<table border=\"1\" class=\"dataframe\">\n",
              "  <thead>\n",
              "    <tr style=\"text-align: right;\">\n",
              "      <th></th>\n",
              "      <th>row_id</th>\n",
              "      <th>datetime</th>\n",
              "      <th>energy</th>\n",
              "      <th>date</th>\n",
              "      <th>Hour</th>\n",
              "    </tr>\n",
              "  </thead>\n",
              "  <tbody>\n",
              "    <tr>\n",
              "      <th>0</th>\n",
              "      <td>1</td>\n",
              "      <td>2008-03-01 00:00:00</td>\n",
              "      <td>1259.985563</td>\n",
              "      <td>2008-03-01</td>\n",
              "      <td>0</td>\n",
              "    </tr>\n",
              "    <tr>\n",
              "      <th>1</th>\n",
              "      <td>2</td>\n",
              "      <td>2008-03-01 01:00:00</td>\n",
              "      <td>1095.541500</td>\n",
              "      <td>2008-03-01</td>\n",
              "      <td>1</td>\n",
              "    </tr>\n",
              "    <tr>\n",
              "      <th>2</th>\n",
              "      <td>3</td>\n",
              "      <td>2008-03-01 02:00:00</td>\n",
              "      <td>1056.247500</td>\n",
              "      <td>2008-03-01</td>\n",
              "      <td>2</td>\n",
              "    </tr>\n",
              "    <tr>\n",
              "      <th>3</th>\n",
              "      <td>4</td>\n",
              "      <td>2008-03-01 03:00:00</td>\n",
              "      <td>1034.742000</td>\n",
              "      <td>2008-03-01</td>\n",
              "      <td>3</td>\n",
              "    </tr>\n",
              "    <tr>\n",
              "      <th>4</th>\n",
              "      <td>5</td>\n",
              "      <td>2008-03-01 04:00:00</td>\n",
              "      <td>1026.334500</td>\n",
              "      <td>2008-03-01</td>\n",
              "      <td>4</td>\n",
              "    </tr>\n",
              "    <tr>\n",
              "      <th>...</th>\n",
              "      <td>...</td>\n",
              "      <td>...</td>\n",
              "      <td>...</td>\n",
              "      <td>...</td>\n",
              "      <td>...</td>\n",
              "    </tr>\n",
              "    <tr>\n",
              "      <th>94987</th>\n",
              "      <td>94988</td>\n",
              "      <td>2018-12-31 19:00:00</td>\n",
              "      <td>2528.446800</td>\n",
              "      <td>2018-12-31</td>\n",
              "      <td>19</td>\n",
              "    </tr>\n",
              "    <tr>\n",
              "      <th>94988</th>\n",
              "      <td>94989</td>\n",
              "      <td>2018-12-31 20:00:00</td>\n",
              "      <td>2461.883600</td>\n",
              "      <td>2018-12-31</td>\n",
              "      <td>20</td>\n",
              "    </tr>\n",
              "    <tr>\n",
              "      <th>94989</th>\n",
              "      <td>94990</td>\n",
              "      <td>2018-12-31 21:00:00</td>\n",
              "      <td>2365.994400</td>\n",
              "      <td>2018-12-31</td>\n",
              "      <td>21</td>\n",
              "    </tr>\n",
              "    <tr>\n",
              "      <th>94990</th>\n",
              "      <td>94991</td>\n",
              "      <td>2018-12-31 22:00:00</td>\n",
              "      <td>2342.942800</td>\n",
              "      <td>2018-12-31</td>\n",
              "      <td>22</td>\n",
              "    </tr>\n",
              "    <tr>\n",
              "      <th>94991</th>\n",
              "      <td>94992</td>\n",
              "      <td>2018-12-31 23:00:00</td>\n",
              "      <td>2180.217600</td>\n",
              "      <td>2018-12-31</td>\n",
              "      <td>23</td>\n",
              "    </tr>\n",
              "  </tbody>\n",
              "</table>\n",
              "<p>93092 rows × 5 columns</p>\n",
              "</div>\n",
              "      <button class=\"colab-df-convert\" onclick=\"convertToInteractive('df-0f2e0c39-2ec1-445a-8d21-282f00dcf8e8')\"\n",
              "              title=\"Convert this dataframe to an interactive table.\"\n",
              "              style=\"display:none;\">\n",
              "        \n",
              "  <svg xmlns=\"http://www.w3.org/2000/svg\" height=\"24px\"viewBox=\"0 0 24 24\"\n",
              "       width=\"24px\">\n",
              "    <path d=\"M0 0h24v24H0V0z\" fill=\"none\"/>\n",
              "    <path d=\"M18.56 5.44l.94 2.06.94-2.06 2.06-.94-2.06-.94-.94-2.06-.94 2.06-2.06.94zm-11 1L8.5 8.5l.94-2.06 2.06-.94-2.06-.94L8.5 2.5l-.94 2.06-2.06.94zm10 10l.94 2.06.94-2.06 2.06-.94-2.06-.94-.94-2.06-.94 2.06-2.06.94z\"/><path d=\"M17.41 7.96l-1.37-1.37c-.4-.4-.92-.59-1.43-.59-.52 0-1.04.2-1.43.59L10.3 9.45l-7.72 7.72c-.78.78-.78 2.05 0 2.83L4 21.41c.39.39.9.59 1.41.59.51 0 1.02-.2 1.41-.59l7.78-7.78 2.81-2.81c.8-.78.8-2.07 0-2.86zM5.41 20L4 18.59l7.72-7.72 1.47 1.35L5.41 20z\"/>\n",
              "  </svg>\n",
              "      </button>\n",
              "      \n",
              "  <style>\n",
              "    .colab-df-container {\n",
              "      display:flex;\n",
              "      flex-wrap:wrap;\n",
              "      gap: 12px;\n",
              "    }\n",
              "\n",
              "    .colab-df-convert {\n",
              "      background-color: #E8F0FE;\n",
              "      border: none;\n",
              "      border-radius: 50%;\n",
              "      cursor: pointer;\n",
              "      display: none;\n",
              "      fill: #1967D2;\n",
              "      height: 32px;\n",
              "      padding: 0 0 0 0;\n",
              "      width: 32px;\n",
              "    }\n",
              "\n",
              "    .colab-df-convert:hover {\n",
              "      background-color: #E2EBFA;\n",
              "      box-shadow: 0px 1px 2px rgba(60, 64, 67, 0.3), 0px 1px 3px 1px rgba(60, 64, 67, 0.15);\n",
              "      fill: #174EA6;\n",
              "    }\n",
              "\n",
              "    [theme=dark] .colab-df-convert {\n",
              "      background-color: #3B4455;\n",
              "      fill: #D2E3FC;\n",
              "    }\n",
              "\n",
              "    [theme=dark] .colab-df-convert:hover {\n",
              "      background-color: #434B5C;\n",
              "      box-shadow: 0px 1px 3px 1px rgba(0, 0, 0, 0.15);\n",
              "      filter: drop-shadow(0px 1px 2px rgba(0, 0, 0, 0.3));\n",
              "      fill: #FFFFFF;\n",
              "    }\n",
              "  </style>\n",
              "\n",
              "      <script>\n",
              "        const buttonEl =\n",
              "          document.querySelector('#df-0f2e0c39-2ec1-445a-8d21-282f00dcf8e8 button.colab-df-convert');\n",
              "        buttonEl.style.display =\n",
              "          google.colab.kernel.accessAllowed ? 'block' : 'none';\n",
              "\n",
              "        async function convertToInteractive(key) {\n",
              "          const element = document.querySelector('#df-0f2e0c39-2ec1-445a-8d21-282f00dcf8e8');\n",
              "          const dataTable =\n",
              "            await google.colab.kernel.invokeFunction('convertToInteractive',\n",
              "                                                     [key], {});\n",
              "          if (!dataTable) return;\n",
              "\n",
              "          const docLinkHtml = 'Like what you see? Visit the ' +\n",
              "            '<a target=\"_blank\" href=https://colab.research.google.com/notebooks/data_table.ipynb>data table notebook</a>'\n",
              "            + ' to learn more about interactive tables.';\n",
              "          element.innerHTML = '';\n",
              "          dataTable['output_type'] = 'display_data';\n",
              "          await google.colab.output.renderOutput(dataTable, element);\n",
              "          const docLink = document.createElement('div');\n",
              "          docLink.innerHTML = docLinkHtml;\n",
              "          element.appendChild(docLink);\n",
              "        }\n",
              "      </script>\n",
              "    </div>\n",
              "  </div>\n",
              "  "
            ]
          },
          "metadata": {},
          "execution_count": 18
        }
      ]
    },
    {
      "cell_type": "code",
      "source": [
        "df.dtypes"
      ],
      "metadata": {
        "colab": {
          "base_uri": "https://localhost:8080/"
        },
        "id": "YXFnqP4r_bvi",
        "outputId": "b7377700-ed71-437b-b38d-48e506b23587"
      },
      "execution_count": 19,
      "outputs": [
        {
          "output_type": "execute_result",
          "data": {
            "text/plain": [
              "row_id        int64\n",
              "datetime     object\n",
              "energy      float64\n",
              "date         object\n",
              "Hour          int64\n",
              "dtype: object"
            ]
          },
          "metadata": {},
          "execution_count": 19
        }
      ]
    },
    {
      "cell_type": "code",
      "source": [
        "df['date'] = pd.to_datetime(df['date'])\n",
        "df['year'] = df['date'].apply(lambda x: x.year)\n",
        "df['month'] = df['date'].apply(lambda x: x.month)\n",
        "df['day'] = df['date'].apply(lambda x: x.day)\n",
        "df['day_of_week'] = df['date'].apply(lambda x: x.dayofweek)\n",
        "df['is_quarter_date'] = df['date'].apply(lambda x: x.quarter)\n",
        "df['is_weekend'] = df['day_of_week'].apply(lambda x: 1 if x>4 else 0)\n",
        "\n",
        "df.drop(['date'], axis=1, inplace=True)"
      ],
      "metadata": {
        "id": "jy0Y5VuH_jhd"
      },
      "execution_count": 20,
      "outputs": []
    },
    {
      "cell_type": "code",
      "source": [
        "test['date'] = pd.to_datetime(test['date'])\n",
        "test['year'] = test['date'].apply(lambda x: x.year)\n",
        "test['month'] = test['date'].apply(lambda x: x.month)\n",
        "test['day'] = test['date'].apply(lambda x: x.day)\n",
        "test['day_of_week'] = test['date'].apply(lambda x: x.dayofweek)\n",
        "test['is_quarter_date'] = test['date'].apply(lambda x: x.quarter)\n",
        "test['is_weekend'] = test['day_of_week'].apply(lambda x: 1 if x>4 else 0)\n",
        "\n",
        "test.drop(['date'], axis=1, inplace=True)"
      ],
      "metadata": {
        "id": "q94mz1fI_pj7"
      },
      "execution_count": 21,
      "outputs": []
    },
    {
      "cell_type": "code",
      "source": [
        "test"
      ],
      "metadata": {
        "colab": {
          "base_uri": "https://localhost:8080/",
          "height": 423
        },
        "id": "FEDkzrQJ_viq",
        "outputId": "ccfe3942-8fb0-45eb-ca2f-20ed9ad287a5"
      },
      "execution_count": 22,
      "outputs": [
        {
          "output_type": "execute_result",
          "data": {
            "text/plain": [
              "       row_id             datetime  Hour  year  month  day  day_of_week  \\\n",
              "0       94993  2019-01-01 00:00:00     0  2019      1    1            1   \n",
              "1       94994  2019-01-01 01:00:00     1  2019      1    1            1   \n",
              "2       94995  2019-01-01 02:00:00     2  2019      1    1            1   \n",
              "3       94996  2019-01-01 03:00:00     3  2019      1    1            1   \n",
              "4       94997  2019-01-01 04:00:00     4  2019      1    1            1   \n",
              "...       ...                  ...   ...   ...    ...  ...          ...   \n",
              "26299  121292  2021-12-31 19:00:00    19  2021     12   31            4   \n",
              "26300  121293  2021-12-31 20:00:00    20  2021     12   31            4   \n",
              "26301  121294  2021-12-31 21:00:00    21  2021     12   31            4   \n",
              "26302  121295  2021-12-31 22:00:00    22  2021     12   31            4   \n",
              "26303  121296  2021-12-31 23:00:00    23  2021     12   31            4   \n",
              "\n",
              "       is_quarter_date  is_weekend  \n",
              "0                    1           0  \n",
              "1                    1           0  \n",
              "2                    1           0  \n",
              "3                    1           0  \n",
              "4                    1           0  \n",
              "...                ...         ...  \n",
              "26299                4           0  \n",
              "26300                4           0  \n",
              "26301                4           0  \n",
              "26302                4           0  \n",
              "26303                4           0  \n",
              "\n",
              "[26304 rows x 9 columns]"
            ],
            "text/html": [
              "\n",
              "  <div id=\"df-20cea5d1-79af-4f67-ab0e-dc1953d537d2\">\n",
              "    <div class=\"colab-df-container\">\n",
              "      <div>\n",
              "<style scoped>\n",
              "    .dataframe tbody tr th:only-of-type {\n",
              "        vertical-align: middle;\n",
              "    }\n",
              "\n",
              "    .dataframe tbody tr th {\n",
              "        vertical-align: top;\n",
              "    }\n",
              "\n",
              "    .dataframe thead th {\n",
              "        text-align: right;\n",
              "    }\n",
              "</style>\n",
              "<table border=\"1\" class=\"dataframe\">\n",
              "  <thead>\n",
              "    <tr style=\"text-align: right;\">\n",
              "      <th></th>\n",
              "      <th>row_id</th>\n",
              "      <th>datetime</th>\n",
              "      <th>Hour</th>\n",
              "      <th>year</th>\n",
              "      <th>month</th>\n",
              "      <th>day</th>\n",
              "      <th>day_of_week</th>\n",
              "      <th>is_quarter_date</th>\n",
              "      <th>is_weekend</th>\n",
              "    </tr>\n",
              "  </thead>\n",
              "  <tbody>\n",
              "    <tr>\n",
              "      <th>0</th>\n",
              "      <td>94993</td>\n",
              "      <td>2019-01-01 00:00:00</td>\n",
              "      <td>0</td>\n",
              "      <td>2019</td>\n",
              "      <td>1</td>\n",
              "      <td>1</td>\n",
              "      <td>1</td>\n",
              "      <td>1</td>\n",
              "      <td>0</td>\n",
              "    </tr>\n",
              "    <tr>\n",
              "      <th>1</th>\n",
              "      <td>94994</td>\n",
              "      <td>2019-01-01 01:00:00</td>\n",
              "      <td>1</td>\n",
              "      <td>2019</td>\n",
              "      <td>1</td>\n",
              "      <td>1</td>\n",
              "      <td>1</td>\n",
              "      <td>1</td>\n",
              "      <td>0</td>\n",
              "    </tr>\n",
              "    <tr>\n",
              "      <th>2</th>\n",
              "      <td>94995</td>\n",
              "      <td>2019-01-01 02:00:00</td>\n",
              "      <td>2</td>\n",
              "      <td>2019</td>\n",
              "      <td>1</td>\n",
              "      <td>1</td>\n",
              "      <td>1</td>\n",
              "      <td>1</td>\n",
              "      <td>0</td>\n",
              "    </tr>\n",
              "    <tr>\n",
              "      <th>3</th>\n",
              "      <td>94996</td>\n",
              "      <td>2019-01-01 03:00:00</td>\n",
              "      <td>3</td>\n",
              "      <td>2019</td>\n",
              "      <td>1</td>\n",
              "      <td>1</td>\n",
              "      <td>1</td>\n",
              "      <td>1</td>\n",
              "      <td>0</td>\n",
              "    </tr>\n",
              "    <tr>\n",
              "      <th>4</th>\n",
              "      <td>94997</td>\n",
              "      <td>2019-01-01 04:00:00</td>\n",
              "      <td>4</td>\n",
              "      <td>2019</td>\n",
              "      <td>1</td>\n",
              "      <td>1</td>\n",
              "      <td>1</td>\n",
              "      <td>1</td>\n",
              "      <td>0</td>\n",
              "    </tr>\n",
              "    <tr>\n",
              "      <th>...</th>\n",
              "      <td>...</td>\n",
              "      <td>...</td>\n",
              "      <td>...</td>\n",
              "      <td>...</td>\n",
              "      <td>...</td>\n",
              "      <td>...</td>\n",
              "      <td>...</td>\n",
              "      <td>...</td>\n",
              "      <td>...</td>\n",
              "    </tr>\n",
              "    <tr>\n",
              "      <th>26299</th>\n",
              "      <td>121292</td>\n",
              "      <td>2021-12-31 19:00:00</td>\n",
              "      <td>19</td>\n",
              "      <td>2021</td>\n",
              "      <td>12</td>\n",
              "      <td>31</td>\n",
              "      <td>4</td>\n",
              "      <td>4</td>\n",
              "      <td>0</td>\n",
              "    </tr>\n",
              "    <tr>\n",
              "      <th>26300</th>\n",
              "      <td>121293</td>\n",
              "      <td>2021-12-31 20:00:00</td>\n",
              "      <td>20</td>\n",
              "      <td>2021</td>\n",
              "      <td>12</td>\n",
              "      <td>31</td>\n",
              "      <td>4</td>\n",
              "      <td>4</td>\n",
              "      <td>0</td>\n",
              "    </tr>\n",
              "    <tr>\n",
              "      <th>26301</th>\n",
              "      <td>121294</td>\n",
              "      <td>2021-12-31 21:00:00</td>\n",
              "      <td>21</td>\n",
              "      <td>2021</td>\n",
              "      <td>12</td>\n",
              "      <td>31</td>\n",
              "      <td>4</td>\n",
              "      <td>4</td>\n",
              "      <td>0</td>\n",
              "    </tr>\n",
              "    <tr>\n",
              "      <th>26302</th>\n",
              "      <td>121295</td>\n",
              "      <td>2021-12-31 22:00:00</td>\n",
              "      <td>22</td>\n",
              "      <td>2021</td>\n",
              "      <td>12</td>\n",
              "      <td>31</td>\n",
              "      <td>4</td>\n",
              "      <td>4</td>\n",
              "      <td>0</td>\n",
              "    </tr>\n",
              "    <tr>\n",
              "      <th>26303</th>\n",
              "      <td>121296</td>\n",
              "      <td>2021-12-31 23:00:00</td>\n",
              "      <td>23</td>\n",
              "      <td>2021</td>\n",
              "      <td>12</td>\n",
              "      <td>31</td>\n",
              "      <td>4</td>\n",
              "      <td>4</td>\n",
              "      <td>0</td>\n",
              "    </tr>\n",
              "  </tbody>\n",
              "</table>\n",
              "<p>26304 rows × 9 columns</p>\n",
              "</div>\n",
              "      <button class=\"colab-df-convert\" onclick=\"convertToInteractive('df-20cea5d1-79af-4f67-ab0e-dc1953d537d2')\"\n",
              "              title=\"Convert this dataframe to an interactive table.\"\n",
              "              style=\"display:none;\">\n",
              "        \n",
              "  <svg xmlns=\"http://www.w3.org/2000/svg\" height=\"24px\"viewBox=\"0 0 24 24\"\n",
              "       width=\"24px\">\n",
              "    <path d=\"M0 0h24v24H0V0z\" fill=\"none\"/>\n",
              "    <path d=\"M18.56 5.44l.94 2.06.94-2.06 2.06-.94-2.06-.94-.94-2.06-.94 2.06-2.06.94zm-11 1L8.5 8.5l.94-2.06 2.06-.94-2.06-.94L8.5 2.5l-.94 2.06-2.06.94zm10 10l.94 2.06.94-2.06 2.06-.94-2.06-.94-.94-2.06-.94 2.06-2.06.94z\"/><path d=\"M17.41 7.96l-1.37-1.37c-.4-.4-.92-.59-1.43-.59-.52 0-1.04.2-1.43.59L10.3 9.45l-7.72 7.72c-.78.78-.78 2.05 0 2.83L4 21.41c.39.39.9.59 1.41.59.51 0 1.02-.2 1.41-.59l7.78-7.78 2.81-2.81c.8-.78.8-2.07 0-2.86zM5.41 20L4 18.59l7.72-7.72 1.47 1.35L5.41 20z\"/>\n",
              "  </svg>\n",
              "      </button>\n",
              "      \n",
              "  <style>\n",
              "    .colab-df-container {\n",
              "      display:flex;\n",
              "      flex-wrap:wrap;\n",
              "      gap: 12px;\n",
              "    }\n",
              "\n",
              "    .colab-df-convert {\n",
              "      background-color: #E8F0FE;\n",
              "      border: none;\n",
              "      border-radius: 50%;\n",
              "      cursor: pointer;\n",
              "      display: none;\n",
              "      fill: #1967D2;\n",
              "      height: 32px;\n",
              "      padding: 0 0 0 0;\n",
              "      width: 32px;\n",
              "    }\n",
              "\n",
              "    .colab-df-convert:hover {\n",
              "      background-color: #E2EBFA;\n",
              "      box-shadow: 0px 1px 2px rgba(60, 64, 67, 0.3), 0px 1px 3px 1px rgba(60, 64, 67, 0.15);\n",
              "      fill: #174EA6;\n",
              "    }\n",
              "\n",
              "    [theme=dark] .colab-df-convert {\n",
              "      background-color: #3B4455;\n",
              "      fill: #D2E3FC;\n",
              "    }\n",
              "\n",
              "    [theme=dark] .colab-df-convert:hover {\n",
              "      background-color: #434B5C;\n",
              "      box-shadow: 0px 1px 3px 1px rgba(0, 0, 0, 0.15);\n",
              "      filter: drop-shadow(0px 1px 2px rgba(0, 0, 0, 0.3));\n",
              "      fill: #FFFFFF;\n",
              "    }\n",
              "  </style>\n",
              "\n",
              "      <script>\n",
              "        const buttonEl =\n",
              "          document.querySelector('#df-20cea5d1-79af-4f67-ab0e-dc1953d537d2 button.colab-df-convert');\n",
              "        buttonEl.style.display =\n",
              "          google.colab.kernel.accessAllowed ? 'block' : 'none';\n",
              "\n",
              "        async function convertToInteractive(key) {\n",
              "          const element = document.querySelector('#df-20cea5d1-79af-4f67-ab0e-dc1953d537d2');\n",
              "          const dataTable =\n",
              "            await google.colab.kernel.invokeFunction('convertToInteractive',\n",
              "                                                     [key], {});\n",
              "          if (!dataTable) return;\n",
              "\n",
              "          const docLinkHtml = 'Like what you see? Visit the ' +\n",
              "            '<a target=\"_blank\" href=https://colab.research.google.com/notebooks/data_table.ipynb>data table notebook</a>'\n",
              "            + ' to learn more about interactive tables.';\n",
              "          element.innerHTML = '';\n",
              "          dataTable['output_type'] = 'display_data';\n",
              "          await google.colab.output.renderOutput(dataTable, element);\n",
              "          const docLink = document.createElement('div');\n",
              "          docLink.innerHTML = docLinkHtml;\n",
              "          element.appendChild(docLink);\n",
              "        }\n",
              "      </script>\n",
              "    </div>\n",
              "  </div>\n",
              "  "
            ]
          },
          "metadata": {},
          "execution_count": 22
        }
      ]
    },
    {
      "cell_type": "code",
      "source": [
        "def time_of_day(n):\n",
        "    if n in range(4,8):\n",
        "        return 'Early Morning'\n",
        "    elif n in range(8,12):\n",
        "        return 'Morning'\n",
        "    elif n in range(12,18):\n",
        "        return 'Afternoon'\n",
        "    elif n in range(18,21):\n",
        "        return 'Evening'\n",
        "    elif n in range(21,25) or n==0:\n",
        "        return 'Night'\n",
        "    elif n in range(1,4):\n",
        "        return 'Late Night'\n",
        "    \n",
        "df['Type_of_Day'] = df['Hour'].apply(lambda x: time_of_day(x))"
      ],
      "metadata": {
        "id": "SVtM1n2L_yST"
      },
      "execution_count": 23,
      "outputs": []
    },
    {
      "cell_type": "code",
      "source": [
        "df"
      ],
      "metadata": {
        "colab": {
          "base_uri": "https://localhost:8080/",
          "height": 423
        },
        "id": "zv93m0lQ_7u6",
        "outputId": "e663feff-252a-40c8-8340-ce181863d248"
      },
      "execution_count": 24,
      "outputs": [
        {
          "output_type": "execute_result",
          "data": {
            "text/plain": [
              "       row_id             datetime       energy  Hour  year  month  day  \\\n",
              "0           1  2008-03-01 00:00:00  1259.985563     0  2008      3    1   \n",
              "1           2  2008-03-01 01:00:00  1095.541500     1  2008      3    1   \n",
              "2           3  2008-03-01 02:00:00  1056.247500     2  2008      3    1   \n",
              "3           4  2008-03-01 03:00:00  1034.742000     3  2008      3    1   \n",
              "4           5  2008-03-01 04:00:00  1026.334500     4  2008      3    1   \n",
              "...       ...                  ...          ...   ...   ...    ...  ...   \n",
              "94987   94988  2018-12-31 19:00:00  2528.446800    19  2018     12   31   \n",
              "94988   94989  2018-12-31 20:00:00  2461.883600    20  2018     12   31   \n",
              "94989   94990  2018-12-31 21:00:00  2365.994400    21  2018     12   31   \n",
              "94990   94991  2018-12-31 22:00:00  2342.942800    22  2018     12   31   \n",
              "94991   94992  2018-12-31 23:00:00  2180.217600    23  2018     12   31   \n",
              "\n",
              "       day_of_week  is_quarter_date  is_weekend    Type_of_Day  \n",
              "0                5                1           1          Night  \n",
              "1                5                1           1     Late Night  \n",
              "2                5                1           1     Late Night  \n",
              "3                5                1           1     Late Night  \n",
              "4                5                1           1  Early Morning  \n",
              "...            ...              ...         ...            ...  \n",
              "94987            0                4           0        Evening  \n",
              "94988            0                4           0        Evening  \n",
              "94989            0                4           0          Night  \n",
              "94990            0                4           0          Night  \n",
              "94991            0                4           0          Night  \n",
              "\n",
              "[93092 rows x 11 columns]"
            ],
            "text/html": [
              "\n",
              "  <div id=\"df-a3e410a0-fb73-4e9e-bc74-f3136f813436\">\n",
              "    <div class=\"colab-df-container\">\n",
              "      <div>\n",
              "<style scoped>\n",
              "    .dataframe tbody tr th:only-of-type {\n",
              "        vertical-align: middle;\n",
              "    }\n",
              "\n",
              "    .dataframe tbody tr th {\n",
              "        vertical-align: top;\n",
              "    }\n",
              "\n",
              "    .dataframe thead th {\n",
              "        text-align: right;\n",
              "    }\n",
              "</style>\n",
              "<table border=\"1\" class=\"dataframe\">\n",
              "  <thead>\n",
              "    <tr style=\"text-align: right;\">\n",
              "      <th></th>\n",
              "      <th>row_id</th>\n",
              "      <th>datetime</th>\n",
              "      <th>energy</th>\n",
              "      <th>Hour</th>\n",
              "      <th>year</th>\n",
              "      <th>month</th>\n",
              "      <th>day</th>\n",
              "      <th>day_of_week</th>\n",
              "      <th>is_quarter_date</th>\n",
              "      <th>is_weekend</th>\n",
              "      <th>Type_of_Day</th>\n",
              "    </tr>\n",
              "  </thead>\n",
              "  <tbody>\n",
              "    <tr>\n",
              "      <th>0</th>\n",
              "      <td>1</td>\n",
              "      <td>2008-03-01 00:00:00</td>\n",
              "      <td>1259.985563</td>\n",
              "      <td>0</td>\n",
              "      <td>2008</td>\n",
              "      <td>3</td>\n",
              "      <td>1</td>\n",
              "      <td>5</td>\n",
              "      <td>1</td>\n",
              "      <td>1</td>\n",
              "      <td>Night</td>\n",
              "    </tr>\n",
              "    <tr>\n",
              "      <th>1</th>\n",
              "      <td>2</td>\n",
              "      <td>2008-03-01 01:00:00</td>\n",
              "      <td>1095.541500</td>\n",
              "      <td>1</td>\n",
              "      <td>2008</td>\n",
              "      <td>3</td>\n",
              "      <td>1</td>\n",
              "      <td>5</td>\n",
              "      <td>1</td>\n",
              "      <td>1</td>\n",
              "      <td>Late Night</td>\n",
              "    </tr>\n",
              "    <tr>\n",
              "      <th>2</th>\n",
              "      <td>3</td>\n",
              "      <td>2008-03-01 02:00:00</td>\n",
              "      <td>1056.247500</td>\n",
              "      <td>2</td>\n",
              "      <td>2008</td>\n",
              "      <td>3</td>\n",
              "      <td>1</td>\n",
              "      <td>5</td>\n",
              "      <td>1</td>\n",
              "      <td>1</td>\n",
              "      <td>Late Night</td>\n",
              "    </tr>\n",
              "    <tr>\n",
              "      <th>3</th>\n",
              "      <td>4</td>\n",
              "      <td>2008-03-01 03:00:00</td>\n",
              "      <td>1034.742000</td>\n",
              "      <td>3</td>\n",
              "      <td>2008</td>\n",
              "      <td>3</td>\n",
              "      <td>1</td>\n",
              "      <td>5</td>\n",
              "      <td>1</td>\n",
              "      <td>1</td>\n",
              "      <td>Late Night</td>\n",
              "    </tr>\n",
              "    <tr>\n",
              "      <th>4</th>\n",
              "      <td>5</td>\n",
              "      <td>2008-03-01 04:00:00</td>\n",
              "      <td>1026.334500</td>\n",
              "      <td>4</td>\n",
              "      <td>2008</td>\n",
              "      <td>3</td>\n",
              "      <td>1</td>\n",
              "      <td>5</td>\n",
              "      <td>1</td>\n",
              "      <td>1</td>\n",
              "      <td>Early Morning</td>\n",
              "    </tr>\n",
              "    <tr>\n",
              "      <th>...</th>\n",
              "      <td>...</td>\n",
              "      <td>...</td>\n",
              "      <td>...</td>\n",
              "      <td>...</td>\n",
              "      <td>...</td>\n",
              "      <td>...</td>\n",
              "      <td>...</td>\n",
              "      <td>...</td>\n",
              "      <td>...</td>\n",
              "      <td>...</td>\n",
              "      <td>...</td>\n",
              "    </tr>\n",
              "    <tr>\n",
              "      <th>94987</th>\n",
              "      <td>94988</td>\n",
              "      <td>2018-12-31 19:00:00</td>\n",
              "      <td>2528.446800</td>\n",
              "      <td>19</td>\n",
              "      <td>2018</td>\n",
              "      <td>12</td>\n",
              "      <td>31</td>\n",
              "      <td>0</td>\n",
              "      <td>4</td>\n",
              "      <td>0</td>\n",
              "      <td>Evening</td>\n",
              "    </tr>\n",
              "    <tr>\n",
              "      <th>94988</th>\n",
              "      <td>94989</td>\n",
              "      <td>2018-12-31 20:00:00</td>\n",
              "      <td>2461.883600</td>\n",
              "      <td>20</td>\n",
              "      <td>2018</td>\n",
              "      <td>12</td>\n",
              "      <td>31</td>\n",
              "      <td>0</td>\n",
              "      <td>4</td>\n",
              "      <td>0</td>\n",
              "      <td>Evening</td>\n",
              "    </tr>\n",
              "    <tr>\n",
              "      <th>94989</th>\n",
              "      <td>94990</td>\n",
              "      <td>2018-12-31 21:00:00</td>\n",
              "      <td>2365.994400</td>\n",
              "      <td>21</td>\n",
              "      <td>2018</td>\n",
              "      <td>12</td>\n",
              "      <td>31</td>\n",
              "      <td>0</td>\n",
              "      <td>4</td>\n",
              "      <td>0</td>\n",
              "      <td>Night</td>\n",
              "    </tr>\n",
              "    <tr>\n",
              "      <th>94990</th>\n",
              "      <td>94991</td>\n",
              "      <td>2018-12-31 22:00:00</td>\n",
              "      <td>2342.942800</td>\n",
              "      <td>22</td>\n",
              "      <td>2018</td>\n",
              "      <td>12</td>\n",
              "      <td>31</td>\n",
              "      <td>0</td>\n",
              "      <td>4</td>\n",
              "      <td>0</td>\n",
              "      <td>Night</td>\n",
              "    </tr>\n",
              "    <tr>\n",
              "      <th>94991</th>\n",
              "      <td>94992</td>\n",
              "      <td>2018-12-31 23:00:00</td>\n",
              "      <td>2180.217600</td>\n",
              "      <td>23</td>\n",
              "      <td>2018</td>\n",
              "      <td>12</td>\n",
              "      <td>31</td>\n",
              "      <td>0</td>\n",
              "      <td>4</td>\n",
              "      <td>0</td>\n",
              "      <td>Night</td>\n",
              "    </tr>\n",
              "  </tbody>\n",
              "</table>\n",
              "<p>93092 rows × 11 columns</p>\n",
              "</div>\n",
              "      <button class=\"colab-df-convert\" onclick=\"convertToInteractive('df-a3e410a0-fb73-4e9e-bc74-f3136f813436')\"\n",
              "              title=\"Convert this dataframe to an interactive table.\"\n",
              "              style=\"display:none;\">\n",
              "        \n",
              "  <svg xmlns=\"http://www.w3.org/2000/svg\" height=\"24px\"viewBox=\"0 0 24 24\"\n",
              "       width=\"24px\">\n",
              "    <path d=\"M0 0h24v24H0V0z\" fill=\"none\"/>\n",
              "    <path d=\"M18.56 5.44l.94 2.06.94-2.06 2.06-.94-2.06-.94-.94-2.06-.94 2.06-2.06.94zm-11 1L8.5 8.5l.94-2.06 2.06-.94-2.06-.94L8.5 2.5l-.94 2.06-2.06.94zm10 10l.94 2.06.94-2.06 2.06-.94-2.06-.94-.94-2.06-.94 2.06-2.06.94z\"/><path d=\"M17.41 7.96l-1.37-1.37c-.4-.4-.92-.59-1.43-.59-.52 0-1.04.2-1.43.59L10.3 9.45l-7.72 7.72c-.78.78-.78 2.05 0 2.83L4 21.41c.39.39.9.59 1.41.59.51 0 1.02-.2 1.41-.59l7.78-7.78 2.81-2.81c.8-.78.8-2.07 0-2.86zM5.41 20L4 18.59l7.72-7.72 1.47 1.35L5.41 20z\"/>\n",
              "  </svg>\n",
              "      </button>\n",
              "      \n",
              "  <style>\n",
              "    .colab-df-container {\n",
              "      display:flex;\n",
              "      flex-wrap:wrap;\n",
              "      gap: 12px;\n",
              "    }\n",
              "\n",
              "    .colab-df-convert {\n",
              "      background-color: #E8F0FE;\n",
              "      border: none;\n",
              "      border-radius: 50%;\n",
              "      cursor: pointer;\n",
              "      display: none;\n",
              "      fill: #1967D2;\n",
              "      height: 32px;\n",
              "      padding: 0 0 0 0;\n",
              "      width: 32px;\n",
              "    }\n",
              "\n",
              "    .colab-df-convert:hover {\n",
              "      background-color: #E2EBFA;\n",
              "      box-shadow: 0px 1px 2px rgba(60, 64, 67, 0.3), 0px 1px 3px 1px rgba(60, 64, 67, 0.15);\n",
              "      fill: #174EA6;\n",
              "    }\n",
              "\n",
              "    [theme=dark] .colab-df-convert {\n",
              "      background-color: #3B4455;\n",
              "      fill: #D2E3FC;\n",
              "    }\n",
              "\n",
              "    [theme=dark] .colab-df-convert:hover {\n",
              "      background-color: #434B5C;\n",
              "      box-shadow: 0px 1px 3px 1px rgba(0, 0, 0, 0.15);\n",
              "      filter: drop-shadow(0px 1px 2px rgba(0, 0, 0, 0.3));\n",
              "      fill: #FFFFFF;\n",
              "    }\n",
              "  </style>\n",
              "\n",
              "      <script>\n",
              "        const buttonEl =\n",
              "          document.querySelector('#df-a3e410a0-fb73-4e9e-bc74-f3136f813436 button.colab-df-convert');\n",
              "        buttonEl.style.display =\n",
              "          google.colab.kernel.accessAllowed ? 'block' : 'none';\n",
              "\n",
              "        async function convertToInteractive(key) {\n",
              "          const element = document.querySelector('#df-a3e410a0-fb73-4e9e-bc74-f3136f813436');\n",
              "          const dataTable =\n",
              "            await google.colab.kernel.invokeFunction('convertToInteractive',\n",
              "                                                     [key], {});\n",
              "          if (!dataTable) return;\n",
              "\n",
              "          const docLinkHtml = 'Like what you see? Visit the ' +\n",
              "            '<a target=\"_blank\" href=https://colab.research.google.com/notebooks/data_table.ipynb>data table notebook</a>'\n",
              "            + ' to learn more about interactive tables.';\n",
              "          element.innerHTML = '';\n",
              "          dataTable['output_type'] = 'display_data';\n",
              "          await google.colab.output.renderOutput(dataTable, element);\n",
              "          const docLink = document.createElement('div');\n",
              "          docLink.innerHTML = docLinkHtml;\n",
              "          element.appendChild(docLink);\n",
              "        }\n",
              "      </script>\n",
              "    </div>\n",
              "  </div>\n",
              "  "
            ]
          },
          "metadata": {},
          "execution_count": 24
        }
      ]
    },
    {
      "cell_type": "code",
      "source": [
        "test['Type_of_Day'] = test['Hour'].apply(lambda x: time_of_day(x))"
      ],
      "metadata": {
        "id": "oUgM622l__q3"
      },
      "execution_count": 25,
      "outputs": []
    },
    {
      "cell_type": "code",
      "source": [
        "def month2seasons(x):\n",
        "    if x in [9, 10, 11]:\n",
        "        season = 'Spring'\n",
        "    elif x in [12, 1, 2]:\n",
        "        season = 'Summer'\n",
        "    elif x in [3, 4, 5]:\n",
        "        season = 'Autumn'\n",
        "    elif x in [6, 7, 8]:\n",
        "        season = 'Winter'\n",
        "    return season\n",
        "\n",
        "df['Season'] = df['month'].apply(month2seasons)\n",
        "test['Season'] = test['month'].apply(month2seasons)"
      ],
      "metadata": {
        "id": "VVH7CnxcADm0"
      },
      "execution_count": 26,
      "outputs": []
    },
    {
      "cell_type": "code",
      "source": [
        "print(df)\n",
        "print(test)"
      ],
      "metadata": {
        "colab": {
          "base_uri": "https://localhost:8080/"
        },
        "id": "R2rlGRrVAJnW",
        "outputId": "3215d44b-92ca-4001-cf38-c3da5bb0d5ce"
      },
      "execution_count": 27,
      "outputs": [
        {
          "output_type": "stream",
          "name": "stdout",
          "text": [
            "       row_id             datetime       energy  Hour  year  month  day  \\\n",
            "0           1  2008-03-01 00:00:00  1259.985563     0  2008      3    1   \n",
            "1           2  2008-03-01 01:00:00  1095.541500     1  2008      3    1   \n",
            "2           3  2008-03-01 02:00:00  1056.247500     2  2008      3    1   \n",
            "3           4  2008-03-01 03:00:00  1034.742000     3  2008      3    1   \n",
            "4           5  2008-03-01 04:00:00  1026.334500     4  2008      3    1   \n",
            "...       ...                  ...          ...   ...   ...    ...  ...   \n",
            "94987   94988  2018-12-31 19:00:00  2528.446800    19  2018     12   31   \n",
            "94988   94989  2018-12-31 20:00:00  2461.883600    20  2018     12   31   \n",
            "94989   94990  2018-12-31 21:00:00  2365.994400    21  2018     12   31   \n",
            "94990   94991  2018-12-31 22:00:00  2342.942800    22  2018     12   31   \n",
            "94991   94992  2018-12-31 23:00:00  2180.217600    23  2018     12   31   \n",
            "\n",
            "       day_of_week  is_quarter_date  is_weekend    Type_of_Day  Season  \n",
            "0                5                1           1          Night  Autumn  \n",
            "1                5                1           1     Late Night  Autumn  \n",
            "2                5                1           1     Late Night  Autumn  \n",
            "3                5                1           1     Late Night  Autumn  \n",
            "4                5                1           1  Early Morning  Autumn  \n",
            "...            ...              ...         ...            ...     ...  \n",
            "94987            0                4           0        Evening  Summer  \n",
            "94988            0                4           0        Evening  Summer  \n",
            "94989            0                4           0          Night  Summer  \n",
            "94990            0                4           0          Night  Summer  \n",
            "94991            0                4           0          Night  Summer  \n",
            "\n",
            "[93092 rows x 12 columns]\n",
            "       row_id             datetime  Hour  year  month  day  day_of_week  \\\n",
            "0       94993  2019-01-01 00:00:00     0  2019      1    1            1   \n",
            "1       94994  2019-01-01 01:00:00     1  2019      1    1            1   \n",
            "2       94995  2019-01-01 02:00:00     2  2019      1    1            1   \n",
            "3       94996  2019-01-01 03:00:00     3  2019      1    1            1   \n",
            "4       94997  2019-01-01 04:00:00     4  2019      1    1            1   \n",
            "...       ...                  ...   ...   ...    ...  ...          ...   \n",
            "26299  121292  2021-12-31 19:00:00    19  2021     12   31            4   \n",
            "26300  121293  2021-12-31 20:00:00    20  2021     12   31            4   \n",
            "26301  121294  2021-12-31 21:00:00    21  2021     12   31            4   \n",
            "26302  121295  2021-12-31 22:00:00    22  2021     12   31            4   \n",
            "26303  121296  2021-12-31 23:00:00    23  2021     12   31            4   \n",
            "\n",
            "       is_quarter_date  is_weekend    Type_of_Day  Season  \n",
            "0                    1           0          Night  Summer  \n",
            "1                    1           0     Late Night  Summer  \n",
            "2                    1           0     Late Night  Summer  \n",
            "3                    1           0     Late Night  Summer  \n",
            "4                    1           0  Early Morning  Summer  \n",
            "...                ...         ...            ...     ...  \n",
            "26299                4           0        Evening  Summer  \n",
            "26300                4           0        Evening  Summer  \n",
            "26301                4           0          Night  Summer  \n",
            "26302                4           0          Night  Summer  \n",
            "26303                4           0          Night  Summer  \n",
            "\n",
            "[26304 rows x 11 columns]\n"
          ]
        }
      ]
    },
    {
      "cell_type": "code",
      "source": [
        "df['Type_of_Day'].replace({'Afternoon': 0, 'Morning' : 1, 'Night':2, 'Evening':3, 'Early Morning':4, 'Late Night':5}, \n",
        "                          inplace=True)\n",
        "df['Season'].replace({'Spring':0, 'Summer':1, 'Autumn':2, 'Winter':3}, inplace=True)"
      ],
      "metadata": {
        "id": "_4ugsFLJAMC6"
      },
      "execution_count": 28,
      "outputs": []
    },
    {
      "cell_type": "code",
      "source": [
        "test['Type_of_Day'].replace({'Afternoon': 0, 'Morning' : 1, 'Night':2, 'Evening':3, 'Early Morning':4, 'Late Night':5}, \n",
        "                          inplace=True)\n",
        "test['Season'].replace({'Spring':0, 'Summer':1, 'Autumn':2, 'Winter':3}, inplace=True)"
      ],
      "metadata": {
        "id": "1Nyn39n1ARDy"
      },
      "execution_count": 29,
      "outputs": []
    },
    {
      "cell_type": "code",
      "source": [
        "plt.figure(figsize=(10,6))\n",
        "sns.barplot(x=df['Hour'], y=df['energy'])"
      ],
      "metadata": {
        "colab": {
          "base_uri": "https://localhost:8080/",
          "height": 592
        },
        "id": "Jbi7JCpKAU5q",
        "outputId": "1adefa92-cb9f-4c8e-89ea-6b2fa51a3f19"
      },
      "execution_count": 30,
      "outputs": [
        {
          "output_type": "execute_result",
          "data": {
            "text/plain": [
              "<Axes: xlabel='Hour', ylabel='energy'>"
            ]
          },
          "metadata": {},
          "execution_count": 30
        },
        {
          "output_type": "display_data",
          "data": {
            "text/plain": [
              "<Figure size 1000x600 with 1 Axes>"
            ],
            "image/png": "[encoded data removed]"
          },
          "metadata": {}
        }
      ]
    },
    {
      "cell_type": "code",
      "source": [
        "plt.figure(figsize=(10,6))\n",
        "sns.barplot(x=df['Season'], y=df['energy'])"
      ],
      "metadata": {
        "colab": {
          "base_uri": "https://localhost:8080/",
          "height": 592
        },
        "id": "EiNmoVkaAag3",
        "outputId": "9573d5e3-1aef-41de-a131-26f42310a4cd"
      },
      "execution_count": 31,
      "outputs": [
        {
          "output_type": "execute_result",
          "data": {
            "text/plain": [
              "<Axes: xlabel='Season', ylabel='energy'>"
            ]
          },
          "metadata": {},
          "execution_count": 31
        },
        {
          "output_type": "display_data",
          "data": {
            "text/plain": [
              "<Figure size 1000x600 with 1 Axes>"
            ],
            "image/png": "[encoded data removed]"
          },
          "metadata": {}
        }
      ]
    },
    {
      "cell_type": "code",
      "source": [
        "plt.figure(figsize=(10,6))\n",
        "sns.barplot(x=df['Type_of_Day'], y=df['energy'])"
      ],
      "metadata": {
        "colab": {
          "base_uri": "https://localhost:8080/",
          "height": 592
        },
        "id": "zHibJ2ZHAfN9",
        "outputId": "efa74b4e-1f69-416c-ef48-a643ae626a95"
      },
      "execution_count": 32,
      "outputs": [
        {
          "output_type": "execute_result",
          "data": {
            "text/plain": [
              "<Axes: xlabel='Type_of_Day', ylabel='energy'>"
            ]
          },
          "metadata": {},
          "execution_count": 32
        },
        {
          "output_type": "display_data",
          "data": {
            "text/plain": [
              "<Figure size 1000x600 with 1 Axes>"
            ],
            "image/png": "[encoded data removed]"
          },
          "metadata": {}
        }
      ]
    },
    {
      "cell_type": "code",
      "source": [
        "plt.figure(figsize=(10,6))\n",
        "sns.barplot(x=df['year'], y=df['energy'])"
      ],
      "metadata": {
        "colab": {
          "base_uri": "https://localhost:8080/",
          "height": 592
        },
        "id": "myXMA6DVAmw5",
        "outputId": "4070852d-75e8-4fde-bf7a-93e82781c767"
      },
      "execution_count": 33,
      "outputs": [
        {
          "output_type": "execute_result",
          "data": {
            "text/plain": [
              "<Axes: xlabel='year', ylabel='energy'>"
            ]
          },
          "metadata": {},
          "execution_count": 33
        },
        {
          "output_type": "display_data",
          "data": {
            "text/plain": [
              "<Figure size 1000x600 with 1 Axes>"
            ],
            "image/png": "[encoded data removed]"
          },
          "metadata": {}
        }
      ]
    },
    {
      "cell_type": "code",
      "source": [
        "y = df['energy'].copy()\n",
        "X = df.drop('energy', axis=1).copy()"
      ],
      "metadata": {
        "id": "mf2C3dI5AtUJ"
      },
      "execution_count": 34,
      "outputs": []
    },
    {
      "cell_type": "code",
      "source": [
        "X['hour_sin'] = np.sin(X['Hour']*(2.*np.pi/24))\n",
        "X['hour_cos'] = np.cos(X['Hour']*(2.*np.pi/24))\n",
        "X['month_sin'] = np.sin((X['month']-1)*(2.*np.pi/12))\n",
        "X['month_cos'] = np.cos((X['month']-1)*(2.*np.pi/12))\n",
        "\n",
        "X['day_of_week'] = np.cos(X['day_of_week'])\n",
        "\n",
        "X.drop(['Hour', 'month'], axis=1, inplace=True)"
      ],
      "metadata": {
        "id": "dnsQO05XAzA6"
      },
      "execution_count": 35,
      "outputs": []
    },
    {
      "cell_type": "code",
      "source": [
        "test['hour_sin'] = np.sin(test['Hour']*(2.*np.pi/24))\n",
        "test['hour_cos'] = np.cos(test['Hour']*(2.*np.pi/24))\n",
        "test['month_sin'] = np.sin((test['month']-1)*(2.*np.pi/12))\n",
        "test['month_cos'] = np.cos((test['month']-1)*(2.*np.pi/12))\n",
        "\n",
        "test['day_of_week'] = np.cos(test['day_of_week'])\n",
        "\n",
        "test.drop(['Hour', 'month'], axis=1, inplace=True)"
      ],
      "metadata": {
        "id": "nXsMtaCiA40z"
      },
      "execution_count": 36,
      "outputs": []
    },
    {
      "cell_type": "code",
      "source": [
        "X.round(decimals=2)"
      ],
      "metadata": {
        "colab": {
          "base_uri": "https://localhost:8080/",
          "height": 467
        },
        "id": "ch8r6gQlA-gs",
        "outputId": "3682cced-af05-495f-ad06-cf2da5f6a5c8"
      },
      "execution_count": 37,
      "outputs": [
        {
          "output_type": "execute_result",
          "data": {
            "text/plain": [
              "       row_id             datetime  year  day  day_of_week  is_quarter_date  \\\n",
              "0           1  2008-03-01 00:00:00  2008    1         0.28                1   \n",
              "1           2  2008-03-01 01:00:00  2008    1         0.28                1   \n",
              "2           3  2008-03-01 02:00:00  2008    1         0.28                1   \n",
              "3           4  2008-03-01 03:00:00  2008    1         0.28                1   \n",
              "4           5  2008-03-01 04:00:00  2008    1         0.28                1   \n",
              "...       ...                  ...   ...  ...          ...              ...   \n",
              "94987   94988  2018-12-31 19:00:00  2018   31         1.00                4   \n",
              "94988   94989  2018-12-31 20:00:00  2018   31         1.00                4   \n",
              "94989   94990  2018-12-31 21:00:00  2018   31         1.00                4   \n",
              "94990   94991  2018-12-31 22:00:00  2018   31         1.00                4   \n",
              "94991   94992  2018-12-31 23:00:00  2018   31         1.00                4   \n",
              "\n",
              "       is_weekend  Type_of_Day  Season  hour_sin  hour_cos  month_sin  \\\n",
              "0               1            2       2      0.00      1.00       0.87   \n",
              "1               1            5       2      0.26      0.97       0.87   \n",
              "2               1            5       2      0.50      0.87       0.87   \n",
              "3               1            5       2      0.71      0.71       0.87   \n",
              "4               1            4       2      0.87      0.50       0.87   \n",
              "...           ...          ...     ...       ...       ...        ...   \n",
              "94987           0            3       1     -0.97      0.26      -0.50   \n",
              "94988           0            3       1     -0.87      0.50      -0.50   \n",
              "94989           0            2       1     -0.71      0.71      -0.50   \n",
              "94990           0            2       1     -0.50      0.87      -0.50   \n",
              "94991           0            2       1     -0.26      0.97      -0.50   \n",
              "\n",
              "       month_cos  \n",
              "0           0.50  \n",
              "1           0.50  \n",
              "2           0.50  \n",
              "3           0.50  \n",
              "4           0.50  \n",
              "...          ...  \n",
              "94987       0.87  \n",
              "94988       0.87  \n",
              "94989       0.87  \n",
              "94990       0.87  \n",
              "94991       0.87  \n",
              "\n",
              "[93092 rows x 13 columns]"
            ],
            "text/html": [
              "\n",
              "  <div id=\"df-892c7129-20dd-441a-af27-2f23c10fd641\">\n",
              "    <div class=\"colab-df-container\">\n",
              "      <div>\n",
              "<style scoped>\n",
              "    .dataframe tbody tr th:only-of-type {\n",
              "        vertical-align: middle;\n",
              "    }\n",
              "\n",
              "    .dataframe tbody tr th {\n",
              "        vertical-align: top;\n",
              "    }\n",
              "\n",
              "    .dataframe thead th {\n",
              "        text-align: right;\n",
              "    }\n",
              "</style>\n",
              "<table border=\"1\" class=\"dataframe\">\n",
              "  <thead>\n",
              "    <tr style=\"text-align: right;\">\n",
              "      <th></th>\n",
              "      <th>row_id</th>\n",
              "      <th>datetime</th>\n",
              "      <th>year</th>\n",
              "      <th>day</th>\n",
              "      <th>day_of_week</th>\n",
              "      <th>is_quarter_date</th>\n",
              "      <th>is_weekend</th>\n",
              "      <th>Type_of_Day</th>\n",
              "      <th>Season</th>\n",
              "      <th>hour_sin</th>\n",
              "      <th>hour_cos</th>\n",
              "      <th>month_sin</th>\n",
              "      <th>month_cos</th>\n",
              "    </tr>\n",
              "  </thead>\n",
              "  <tbody>\n",
              "    <tr>\n",
              "      <th>0</th>\n",
              "      <td>1</td>\n",
              "      <td>2008-03-01 00:00:00</td>\n",
              "      <td>2008</td>\n",
              "      <td>1</td>\n",
              "      <td>0.28</td>\n",
              "      <td>1</td>\n",
              "      <td>1</td>\n",
              "      <td>2</td>\n",
              "      <td>2</td>\n",
              "      <td>0.00</td>\n",
              "      <td>1.00</td>\n",
              "      <td>0.87</td>\n",
              "      <td>0.50</td>\n",
              "    </tr>\n",
              "    <tr>\n",
              "      <th>1</th>\n",
              "      <td>2</td>\n",
              "      <td>2008-03-01 01:00:00</td>\n",
              "      <td>2008</td>\n",
              "      <td>1</td>\n",
              "      <td>0.28</td>\n",
              "      <td>1</td>\n",
              "      <td>1</td>\n",
              "      <td>5</td>\n",
              "      <td>2</td>\n",
              "      <td>0.26</td>\n",
              "      <td>0.97</td>\n",
              "      <td>0.87</td>\n",
              "      <td>0.50</td>\n",
              "    </tr>\n",
              "    <tr>\n",
              "      <th>2</th>\n",
              "      <td>3</td>\n",
              "      <td>2008-03-01 02:00:00</td>\n",
              "      <td>2008</td>\n",
              "      <td>1</td>\n",
              "      <td>0.28</td>\n",
              "      <td>1</td>\n",
              "      <td>1</td>\n",
              "      <td>5</td>\n",
              "      <td>2</td>\n",
              "      <td>0.50</td>\n",
              "      <td>0.87</td>\n",
              "      <td>0.87</td>\n",
              "      <td>0.50</td>\n",
              "    </tr>\n",
              "    <tr>\n",
              "      <th>3</th>\n",
              "      <td>4</td>\n",
              "      <td>2008-03-01 03:00:00</td>\n",
              "      <td>2008</td>\n",
              "      <td>1</td>\n",
              "      <td>0.28</td>\n",
              "      <td>1</td>\n",
              "      <td>1</td>\n",
              "      <td>5</td>\n",
              "      <td>2</td>\n",
              "      <td>0.71</td>\n",
              "      <td>0.71</td>\n",
              "      <td>0.87</td>\n",
              "      <td>0.50</td>\n",
              "    </tr>\n",
              "    <tr>\n",
              "      <th>4</th>\n",
              "      <td>5</td>\n",
              "      <td>2008-03-01 04:00:00</td>\n",
              "      <td>2008</td>\n",
              "      <td>1</td>\n",
              "      <td>0.28</td>\n",
              "      <td>1</td>\n",
              "      <td>1</td>\n",
              "      <td>4</td>\n",
              "      <td>2</td>\n",
              "      <td>0.87</td>\n",
              "      <td>0.50</td>\n",
              "      <td>0.87</td>\n",
              "      <td>0.50</td>\n",
              "    </tr>\n",
              "    <tr>\n",
              "      <th>...</th>\n",
              "      <td>...</td>\n",
              "      <td>...</td>\n",
              "      <td>...</td>\n",
              "      <td>...</td>\n",
              "      <td>...</td>\n",
              "      <td>...</td>\n",
              "      <td>...</td>\n",
              "      <td>...</td>\n",
              "      <td>...</td>\n",
              "      <td>...</td>\n",
              "      <td>...</td>\n",
              "      <td>...</td>\n",
              "      <td>...</td>\n",
              "    </tr>\n",
              "    <tr>\n",
              "      <th>94987</th>\n",
              "      <td>94988</td>\n",
              "      <td>2018-12-31 19:00:00</td>\n",
              "      <td>2018</td>\n",
              "      <td>31</td>\n",
              "      <td>1.00</td>\n",
              "      <td>4</td>\n",
              "      <td>0</td>\n",
              "      <td>3</td>\n",
              "      <td>1</td>\n",
              "      <td>-0.97</td>\n",
              "      <td>0.26</td>\n",
              "      <td>-0.50</td>\n",
              "      <td>0.87</td>\n",
              "    </tr>\n",
              "    <tr>\n",
              "      <th>94988</th>\n",
              "      <td>94989</td>\n",
              "      <td>2018-12-31 20:00:00</td>\n",
              "      <td>2018</td>\n",
              "      <td>31</td>\n",
              "      <td>1.00</td>\n",
              "      <td>4</td>\n",
              "      <td>0</td>\n",
              "      <td>3</td>\n",
              "      <td>1</td>\n",
              "      <td>-0.87</td>\n",
              "      <td>0.50</td>\n",
              "      <td>-0.50</td>\n",
              "      <td>0.87</td>\n",
              "    </tr>\n",
              "    <tr>\n",
              "      <th>94989</th>\n",
              "      <td>94990</td>\n",
              "      <td>2018-12-31 21:00:00</td>\n",
              "      <td>2018</td>\n",
              "      <td>31</td>\n",
              "      <td>1.00</td>\n",
              "      <td>4</td>\n",
              "      <td>0</td>\n",
              "      <td>2</td>\n",
              "      <td>1</td>\n",
              "      <td>-0.71</td>\n",
              "      <td>0.71</td>\n",
              "      <td>-0.50</td>\n",
              "      <td>0.87</td>\n",
              "    </tr>\n",
              "    <tr>\n",
              "      <th>94990</th>\n",
              "      <td>94991</td>\n",
              "      <td>2018-12-31 22:00:00</td>\n",
              "      <td>2018</td>\n",
              "      <td>31</td>\n",
              "      <td>1.00</td>\n",
              "      <td>4</td>\n",
              "      <td>0</td>\n",
              "      <td>2</td>\n",
              "      <td>1</td>\n",
              "      <td>-0.50</td>\n",
              "      <td>0.87</td>\n",
              "      <td>-0.50</td>\n",
              "      <td>0.87</td>\n",
              "    </tr>\n",
              "    <tr>\n",
              "      <th>94991</th>\n",
              "      <td>94992</td>\n",
              "      <td>2018-12-31 23:00:00</td>\n",
              "      <td>2018</td>\n",
              "      <td>31</td>\n",
              "      <td>1.00</td>\n",
              "      <td>4</td>\n",
              "      <td>0</td>\n",
              "      <td>2</td>\n",
              "      <td>1</td>\n",
              "      <td>-0.26</td>\n",
              "      <td>0.97</td>\n",
              "      <td>-0.50</td>\n",
              "      <td>0.87</td>\n",
              "    </tr>\n",
              "  </tbody>\n",
              "</table>\n",
              "<p>93092 rows × 13 columns</p>\n",
              "</div>\n",
              "      <button class=\"colab-df-convert\" onclick=\"convertToInteractive('df-892c7129-20dd-441a-af27-2f23c10fd641')\"\n",
              "              title=\"Convert this dataframe to an interactive table.\"\n",
              "              style=\"display:none;\">\n",
              "        \n",
              "  <svg xmlns=\"http://www.w3.org/2000/svg\" height=\"24px\"viewBox=\"0 0 24 24\"\n",
              "       width=\"24px\">\n",
              "    <path d=\"M0 0h24v24H0V0z\" fill=\"none\"/>\n",
              "    <path d=\"M18.56 5.44l.94 2.06.94-2.06 2.06-.94-2.06-.94-.94-2.06-.94 2.06-2.06.94zm-11 1L8.5 8.5l.94-2.06 2.06-.94-2.06-.94L8.5 2.5l-.94 2.06-2.06.94zm10 10l.94 2.06.94-2.06 2.06-.94-2.06-.94-.94-2.06-.94 2.06-2.06.94z\"/><path d=\"M17.41 7.96l-1.37-1.37c-.4-.4-.92-.59-1.43-.59-.52 0-1.04.2-1.43.59L10.3 9.45l-7.72 7.72c-.78.78-.78 2.05 0 2.83L4 21.41c.39.39.9.59 1.41.59.51 0 1.02-.2 1.41-.59l7.78-7.78 2.81-2.81c.8-.78.8-2.07 0-2.86zM5.41 20L4 18.59l7.72-7.72 1.47 1.35L5.41 20z\"/>\n",
              "  </svg>\n",
              "      </button>\n",
              "      \n",
              "  <style>\n",
              "    .colab-df-container {\n",
              "      display:flex;\n",
              "      flex-wrap:wrap;\n",
              "      gap: 12px;\n",
              "    }\n",
              "\n",
              "    .colab-df-convert {\n",
              "      background-color: #E8F0FE;\n",
              "      border: none;\n",
              "      border-radius: 50%;\n",
              "      cursor: pointer;\n",
              "      display: none;\n",
              "      fill: #1967D2;\n",
              "      height: 32px;\n",
              "      padding: 0 0 0 0;\n",
              "      width: 32px;\n",
              "    }\n",
              "\n",
              "    .colab-df-convert:hover {\n",
              "      background-color: #E2EBFA;\n",
              "      box-shadow: 0px 1px 2px rgba(60, 64, 67, 0.3), 0px 1px 3px 1px rgba(60, 64, 67, 0.15);\n",
              "      fill: #174EA6;\n",
              "    }\n",
              "\n",
              "    [theme=dark] .colab-df-convert {\n",
              "      background-color: #3B4455;\n",
              "      fill: #D2E3FC;\n",
              "    }\n",
              "\n",
              "    [theme=dark] .colab-df-convert:hover {\n",
              "      background-color: #434B5C;\n",
              "      box-shadow: 0px 1px 3px 1px rgba(0, 0, 0, 0.15);\n",
              "      filter: drop-shadow(0px 1px 2px rgba(0, 0, 0, 0.3));\n",
              "      fill: #FFFFFF;\n",
              "    }\n",
              "  </style>\n",
              "\n",
              "      <script>\n",
              "        const buttonEl =\n",
              "          document.querySelector('#df-892c7129-20dd-441a-af27-2f23c10fd641 button.colab-df-convert');\n",
              "        buttonEl.style.display =\n",
              "          google.colab.kernel.accessAllowed ? 'block' : 'none';\n",
              "\n",
              "        async function convertToInteractive(key) {\n",
              "          const element = document.querySelector('#df-892c7129-20dd-441a-af27-2f23c10fd641');\n",
              "          const dataTable =\n",
              "            await google.colab.kernel.invokeFunction('convertToInteractive',\n",
              "                                                     [key], {});\n",
              "          if (!dataTable) return;\n",
              "\n",
              "          const docLinkHtml = 'Like what you see? Visit the ' +\n",
              "            '<a target=\"_blank\" href=https://colab.research.google.com/notebooks/data_table.ipynb>data table notebook</a>'\n",
              "            + ' to learn more about interactive tables.';\n",
              "          element.innerHTML = '';\n",
              "          dataTable['output_type'] = 'display_data';\n",
              "          await google.colab.output.renderOutput(dataTable, element);\n",
              "          const docLink = document.createElement('div');\n",
              "          docLink.innerHTML = docLinkHtml;\n",
              "          element.appendChild(docLink);\n",
              "        }\n",
              "      </script>\n",
              "    </div>\n",
              "  </div>\n",
              "  "
            ]
          },
          "metadata": {},
          "execution_count": 37
        }
      ]
    },
    {
      "cell_type": "code",
      "source": [
        "test.round(decimals = 2)"
      ],
      "metadata": {
        "colab": {
          "base_uri": "https://localhost:8080/",
          "height": 467
        },
        "id": "l1iJoq-aBBfL",
        "outputId": "6192a633-d6b6-4fb5-a686-91b6cbfe02cb"
      },
      "execution_count": 38,
      "outputs": [
        {
          "output_type": "execute_result",
          "data": {
            "text/plain": [
              "       row_id             datetime  year  day  day_of_week  is_quarter_date  \\\n",
              "0       94993  2019-01-01 00:00:00  2019    1         0.54                1   \n",
              "1       94994  2019-01-01 01:00:00  2019    1         0.54                1   \n",
              "2       94995  2019-01-01 02:00:00  2019    1         0.54                1   \n",
              "3       94996  2019-01-01 03:00:00  2019    1         0.54                1   \n",
              "4       94997  2019-01-01 04:00:00  2019    1         0.54                1   \n",
              "...       ...                  ...   ...  ...          ...              ...   \n",
              "26299  121292  2021-12-31 19:00:00  2021   31        -0.65                4   \n",
              "26300  121293  2021-12-31 20:00:00  2021   31        -0.65                4   \n",
              "26301  121294  2021-12-31 21:00:00  2021   31        -0.65                4   \n",
              "26302  121295  2021-12-31 22:00:00  2021   31        -0.65                4   \n",
              "26303  121296  2021-12-31 23:00:00  2021   31        -0.65                4   \n",
              "\n",
              "       is_weekend  Type_of_Day  Season  hour_sin  hour_cos  month_sin  \\\n",
              "0               0            2       1      0.00      1.00        0.0   \n",
              "1               0            5       1      0.26      0.97        0.0   \n",
              "2               0            5       1      0.50      0.87        0.0   \n",
              "3               0            5       1      0.71      0.71        0.0   \n",
              "4               0            4       1      0.87      0.50        0.0   \n",
              "...           ...          ...     ...       ...       ...        ...   \n",
              "26299           0            3       1     -0.97      0.26       -0.5   \n",
              "26300           0            3       1     -0.87      0.50       -0.5   \n",
              "26301           0            2       1     -0.71      0.71       -0.5   \n",
              "26302           0            2       1     -0.50      0.87       -0.5   \n",
              "26303           0            2       1     -0.26      0.97       -0.5   \n",
              "\n",
              "       month_cos  \n",
              "0           1.00  \n",
              "1           1.00  \n",
              "2           1.00  \n",
              "3           1.00  \n",
              "4           1.00  \n",
              "...          ...  \n",
              "26299       0.87  \n",
              "26300       0.87  \n",
              "26301       0.87  \n",
              "26302       0.87  \n",
              "26303       0.87  \n",
              "\n",
              "[26304 rows x 13 columns]"
            ],
            "text/html": [
              "\n",
              "  <div id=\"df-6e0103f7-12e4-4525-822d-97a80cbf9724\">\n",
              "    <div class=\"colab-df-container\">\n",
              "      <div>\n",
              "<style scoped>\n",
              "    .dataframe tbody tr th:only-of-type {\n",
              "        vertical-align: middle;\n",
              "    }\n",
              "\n",
              "    .dataframe tbody tr th {\n",
              "        vertical-align: top;\n",
              "    }\n",
              "\n",
              "    .dataframe thead th {\n",
              "        text-align: right;\n",
              "    }\n",
              "</style>\n",
              "<table border=\"1\" class=\"dataframe\">\n",
              "  <thead>\n",
              "    <tr style=\"text-align: right;\">\n",
              "      <th></th>\n",
              "      <th>row_id</th>\n",
              "      <th>datetime</th>\n",
              "      <th>year</th>\n",
              "      <th>day</th>\n",
              "      <th>day_of_week</th>\n",
              "      <th>is_quarter_date</th>\n",
              "      <th>is_weekend</th>\n",
              "      <th>Type_of_Day</th>\n",
              "      <th>Season</th>\n",
              "      <th>hour_sin</th>\n",
              "      <th>hour_cos</th>\n",
              "      <th>month_sin</th>\n",
              "      <th>month_cos</th>\n",
              "    </tr>\n",
              "  </thead>\n",
              "  <tbody>\n",
              "    <tr>\n",
              "      <th>0</th>\n",
              "      <td>94993</td>\n",
              "      <td>2019-01-01 00:00:00</td>\n",
              "      <td>2019</td>\n",
              "      <td>1</td>\n",
              "      <td>0.54</td>\n",
              "      <td>1</td>\n",
              "      <td>0</td>\n",
              "      <td>2</td>\n",
              "      <td>1</td>\n",
              "      <td>0.00</td>\n",
              "      <td>1.00</td>\n",
              "      <td>0.0</td>\n",
              "      <td>1.00</td>\n",
              "    </tr>\n",
              "    <tr>\n",
              "      <th>1</th>\n",
              "      <td>94994</td>\n",
              "      <td>2019-01-01 01:00:00</td>\n",
              "      <td>2019</td>\n",
              "      <td>1</td>\n",
              "      <td>0.54</td>\n",
              "      <td>1</td>\n",
              "      <td>0</td>\n",
              "      <td>5</td>\n",
              "      <td>1</td>\n",
              "      <td>0.26</td>\n",
              "      <td>0.97</td>\n",
              "      <td>0.0</td>\n",
              "      <td>1.00</td>\n",
              "    </tr>\n",
              "    <tr>\n",
              "      <th>2</th>\n",
              "      <td>94995</td>\n",
              "      <td>2019-01-01 02:00:00</td>\n",
              "      <td>2019</td>\n",
              "      <td>1</td>\n",
              "      <td>0.54</td>\n",
              "      <td>1</td>\n",
              "      <td>0</td>\n",
              "      <td>5</td>\n",
              "      <td>1</td>\n",
              "      <td>0.50</td>\n",
              "      <td>0.87</td>\n",
              "      <td>0.0</td>\n",
              "      <td>1.00</td>\n",
              "    </tr>\n",
              "    <tr>\n",
              "      <th>3</th>\n",
              "      <td>94996</td>\n",
              "      <td>2019-01-01 03:00:00</td>\n",
              "      <td>2019</td>\n",
              "      <td>1</td>\n",
              "      <td>0.54</td>\n",
              "      <td>1</td>\n",
              "      <td>0</td>\n",
              "      <td>5</td>\n",
              "      <td>1</td>\n",
              "      <td>0.71</td>\n",
              "      <td>0.71</td>\n",
              "      <td>0.0</td>\n",
              "      <td>1.00</td>\n",
              "    </tr>\n",
              "    <tr>\n",
              "      <th>4</th>\n",
              "      <td>94997</td>\n",
              "      <td>2019-01-01 04:00:00</td>\n",
              "      <td>2019</td>\n",
              "      <td>1</td>\n",
              "      <td>0.54</td>\n",
              "      <td>1</td>\n",
              "      <td>0</td>\n",
              "      <td>4</td>\n",
              "      <td>1</td>\n",
              "      <td>0.87</td>\n",
              "      <td>0.50</td>\n",
              "      <td>0.0</td>\n",
              "      <td>1.00</td>\n",
              "    </tr>\n",
              "    <tr>\n",
              "      <th>...</th>\n",
              "      <td>...</td>\n",
              "      <td>...</td>\n",
              "      <td>...</td>\n",
              "      <td>...</td>\n",
              "      <td>...</td>\n",
              "      <td>...</td>\n",
              "      <td>...</td>\n",
              "      <td>...</td>\n",
              "      <td>...</td>\n",
              "      <td>...</td>\n",
              "      <td>...</td>\n",
              "      <td>...</td>\n",
              "      <td>...</td>\n",
              "    </tr>\n",
              "    <tr>\n",
              "      <th>26299</th>\n",
              "      <td>121292</td>\n",
              "      <td>2021-12-31 19:00:00</td>\n",
              "      <td>2021</td>\n",
              "      <td>31</td>\n",
              "      <td>-0.65</td>\n",
              "      <td>4</td>\n",
              "      <td>0</td>\n",
              "      <td>3</td>\n",
              "      <td>1</td>\n",
              "      <td>-0.97</td>\n",
              "      <td>0.26</td>\n",
              "      <td>-0.5</td>\n",
              "      <td>0.87</td>\n",
              "    </tr>\n",
              "    <tr>\n",
              "      <th>26300</th>\n",
              "      <td>121293</td>\n",
              "      <td>2021-12-31 20:00:00</td>\n",
              "      <td>2021</td>\n",
              "      <td>31</td>\n",
              "      <td>-0.65</td>\n",
              "      <td>4</td>\n",
              "      <td>0</td>\n",
              "      <td>3</td>\n",
              "      <td>1</td>\n",
              "      <td>-0.87</td>\n",
              "      <td>0.50</td>\n",
              "      <td>-0.5</td>\n",
              "      <td>0.87</td>\n",
              "    </tr>\n",
              "    <tr>\n",
              "      <th>26301</th>\n",
              "      <td>121294</td>\n",
              "      <td>2021-12-31 21:00:00</td>\n",
              "      <td>2021</td>\n",
              "      <td>31</td>\n",
              "      <td>-0.65</td>\n",
              "      <td>4</td>\n",
              "      <td>0</td>\n",
              "      <td>2</td>\n",
              "      <td>1</td>\n",
              "      <td>-0.71</td>\n",
              "      <td>0.71</td>\n",
              "      <td>-0.5</td>\n",
              "      <td>0.87</td>\n",
              "    </tr>\n",
              "    <tr>\n",
              "      <th>26302</th>\n",
              "      <td>121295</td>\n",
              "      <td>2021-12-31 22:00:00</td>\n",
              "      <td>2021</td>\n",
              "      <td>31</td>\n",
              "      <td>-0.65</td>\n",
              "      <td>4</td>\n",
              "      <td>0</td>\n",
              "      <td>2</td>\n",
              "      <td>1</td>\n",
              "      <td>-0.50</td>\n",
              "      <td>0.87</td>\n",
              "      <td>-0.5</td>\n",
              "      <td>0.87</td>\n",
              "    </tr>\n",
              "    <tr>\n",
              "      <th>26303</th>\n",
              "      <td>121296</td>\n",
              "      <td>2021-12-31 23:00:00</td>\n",
              "      <td>2021</td>\n",
              "      <td>31</td>\n",
              "      <td>-0.65</td>\n",
              "      <td>4</td>\n",
              "      <td>0</td>\n",
              "      <td>2</td>\n",
              "      <td>1</td>\n",
              "      <td>-0.26</td>\n",
              "      <td>0.97</td>\n",
              "      <td>-0.5</td>\n",
              "      <td>0.87</td>\n",
              "    </tr>\n",
              "  </tbody>\n",
              "</table>\n",
              "<p>26304 rows × 13 columns</p>\n",
              "</div>\n",
              "      <button class=\"colab-df-convert\" onclick=\"convertToInteractive('df-6e0103f7-12e4-4525-822d-97a80cbf9724')\"\n",
              "              title=\"Convert this dataframe to an interactive table.\"\n",
              "              style=\"display:none;\">\n",
              "        \n",
              "  <svg xmlns=\"http://www.w3.org/2000/svg\" height=\"24px\"viewBox=\"0 0 24 24\"\n",
              "       width=\"24px\">\n",
              "    <path d=\"M0 0h24v24H0V0z\" fill=\"none\"/>\n",
              "    <path d=\"M18.56 5.44l.94 2.06.94-2.06 2.06-.94-2.06-.94-.94-2.06-.94 2.06-2.06.94zm-11 1L8.5 8.5l.94-2.06 2.06-.94-2.06-.94L8.5 2.5l-.94 2.06-2.06.94zm10 10l.94 2.06.94-2.06 2.06-.94-2.06-.94-.94-2.06-.94 2.06-2.06.94z\"/><path d=\"M17.41 7.96l-1.37-1.37c-.4-.4-.92-.59-1.43-.59-.52 0-1.04.2-1.43.59L10.3 9.45l-7.72 7.72c-.78.78-.78 2.05 0 2.83L4 21.41c.39.39.9.59 1.41.59.51 0 1.02-.2 1.41-.59l7.78-7.78 2.81-2.81c.8-.78.8-2.07 0-2.86zM5.41 20L4 18.59l7.72-7.72 1.47 1.35L5.41 20z\"/>\n",
              "  </svg>\n",
              "      </button>\n",
              "      \n",
              "  <style>\n",
              "    .colab-df-container {\n",
              "      display:flex;\n",
              "      flex-wrap:wrap;\n",
              "      gap: 12px;\n",
              "    }\n",
              "\n",
              "    .colab-df-convert {\n",
              "      background-color: #E8F0FE;\n",
              "      border: none;\n",
              "      border-radius: 50%;\n",
              "      cursor: pointer;\n",
              "      display: none;\n",
              "      fill: #1967D2;\n",
              "      height: 32px;\n",
              "      padding: 0 0 0 0;\n",
              "      width: 32px;\n",
              "    }\n",
              "\n",
              "    .colab-df-convert:hover {\n",
              "      background-color: #E2EBFA;\n",
              "      box-shadow: 0px 1px 2px rgba(60, 64, 67, 0.3), 0px 1px 3px 1px rgba(60, 64, 67, 0.15);\n",
              "      fill: #174EA6;\n",
              "    }\n",
              "\n",
              "    [theme=dark] .colab-df-convert {\n",
              "      background-color: #3B4455;\n",
              "      fill: #D2E3FC;\n",
              "    }\n",
              "\n",
              "    [theme=dark] .colab-df-convert:hover {\n",
              "      background-color: #434B5C;\n",
              "      box-shadow: 0px 1px 3px 1px rgba(0, 0, 0, 0.15);\n",
              "      filter: drop-shadow(0px 1px 2px rgba(0, 0, 0, 0.3));\n",
              "      fill: #FFFFFF;\n",
              "    }\n",
              "  </style>\n",
              "\n",
              "      <script>\n",
              "        const buttonEl =\n",
              "          document.querySelector('#df-6e0103f7-12e4-4525-822d-97a80cbf9724 button.colab-df-convert');\n",
              "        buttonEl.style.display =\n",
              "          google.colab.kernel.accessAllowed ? 'block' : 'none';\n",
              "\n",
              "        async function convertToInteractive(key) {\n",
              "          const element = document.querySelector('#df-6e0103f7-12e4-4525-822d-97a80cbf9724');\n",
              "          const dataTable =\n",
              "            await google.colab.kernel.invokeFunction('convertToInteractive',\n",
              "                                                     [key], {});\n",
              "          if (!dataTable) return;\n",
              "\n",
              "          const docLinkHtml = 'Like what you see? Visit the ' +\n",
              "            '<a target=\"_blank\" href=https://colab.research.google.com/notebooks/data_table.ipynb>data table notebook</a>'\n",
              "            + ' to learn more about interactive tables.';\n",
              "          element.innerHTML = '';\n",
              "          dataTable['output_type'] = 'display_data';\n",
              "          await google.colab.output.renderOutput(dataTable, element);\n",
              "          const docLink = document.createElement('div');\n",
              "          docLink.innerHTML = docLinkHtml;\n",
              "          element.appendChild(docLink);\n",
              "        }\n",
              "      </script>\n",
              "    </div>\n",
              "  </div>\n",
              "  "
            ]
          },
          "metadata": {},
          "execution_count": 38
        }
      ]
    },
    {
      "cell_type": "code",
      "source": [
        "vif_info = pd.DataFrame()"
      ],
      "metadata": {
        "id": "Ff0gxZowBGB4"
      },
      "execution_count": 39,
      "outputs": []
    },
    {
      "cell_type": "code",
      "source": [
        "X = X.drop('datetime' ,axis= 1)"
      ],
      "metadata": {
        "id": "E6rusVATBMmB"
      },
      "execution_count": 40,
      "outputs": []
    },
    {
      "cell_type": "code",
      "source": [
        "X.dtypes"
      ],
      "metadata": {
        "colab": {
          "base_uri": "https://localhost:8080/"
        },
        "id": "t9rCQFAyBQLX",
        "outputId": "3a7b82db-96c5-4e6e-ad90-9e49ada9935d"
      },
      "execution_count": 41,
      "outputs": [
        {
          "output_type": "execute_result",
          "data": {
            "text/plain": [
              "row_id               int64\n",
              "year                 int64\n",
              "day                  int64\n",
              "day_of_week        float64\n",
              "is_quarter_date      int64\n",
              "is_weekend           int64\n",
              "Type_of_Day          int64\n",
              "Season               int64\n",
              "hour_sin           float64\n",
              "hour_cos           float64\n",
              "month_sin          float64\n",
              "month_cos          float64\n",
              "dtype: object"
            ]
          },
          "metadata": {},
          "execution_count": 41
        }
      ]
    },
    {
      "cell_type": "code",
      "source": [
        "vif_info['VIF'] = [variance_inflation_factor(X.values, i) for i in range(X.shape[1])]\n",
        "vif_info['Columns'] = X.columns\n",
        "vif_info.sort_values('VIF', ascending=False)"
      ],
      "metadata": {
        "colab": {
          "base_uri": "https://localhost:8080/",
          "height": 425
        },
        "id": "M6rb61YpBTmY",
        "outputId": "3aa23c5c-01fe-44f5-9f13-c2f06ea8a361"
      },
      "execution_count": 42,
      "outputs": [
        {
          "output_type": "execute_result",
          "data": {
            "text/plain": [
              "          VIF          Columns\n",
              "1   33.123057             year\n",
              "4   18.452855  is_quarter_date\n",
              "6    8.638707      Type_of_Day\n",
              "7    8.311279           Season\n",
              "2    4.193170              day\n",
              "0    4.036494           row_id\n",
              "10   3.849562        month_sin\n",
              "9    2.707700         hour_cos\n",
              "11   2.075886        month_cos\n",
              "5    1.746682       is_weekend\n",
              "8    1.698022         hour_sin\n",
              "3    1.271607      day_of_week"
            ],
            "text/html": [
              "\n",
              "  <div id=\"df-2c4a87bf-bd32-408e-969a-2005f5c5548b\">\n",
              "    <div class=\"colab-df-container\">\n",
              "      <div>\n",
              "<style scoped>\n",
              "    .dataframe tbody tr th:only-of-type {\n",
              "        vertical-align: middle;\n",
              "    }\n",
              "\n",
              "    .dataframe tbody tr th {\n",
              "        vertical-align: top;\n",
              "    }\n",
              "\n",
              "    .dataframe thead th {\n",
              "        text-align: right;\n",
              "    }\n",
              "</style>\n",
              "<table border=\"1\" class=\"dataframe\">\n",
              "  <thead>\n",
              "    <tr style=\"text-align: right;\">\n",
              "      <th></th>\n",
              "      <th>VIF</th>\n",
              "      <th>Columns</th>\n",
              "    </tr>\n",
              "  </thead>\n",
              "  <tbody>\n",
              "    <tr>\n",
              "      <th>1</th>\n",
              "      <td>33.123057</td>\n",
              "      <td>year</td>\n",
              "    </tr>\n",
              "    <tr>\n",
              "      <th>4</th>\n",
              "      <td>18.452855</td>\n",
              "      <td>is_quarter_date</td>\n",
              "    </tr>\n",
              "    <tr>\n",
              "      <th>6</th>\n",
              "      <td>8.638707</td>\n",
              "      <td>Type_of_Day</td>\n",
              "    </tr>\n",
              "    <tr>\n",
              "      <th>7</th>\n",
              "      <td>8.311279</td>\n",
              "      <td>Season</td>\n",
              "    </tr>\n",
              "    <tr>\n",
              "      <th>2</th>\n",
              "      <td>4.193170</td>\n",
              "      <td>day</td>\n",
              "    </tr>\n",
              "    <tr>\n",
              "      <th>0</th>\n",
              "      <td>4.036494</td>\n",
              "      <td>row_id</td>\n",
              "    </tr>\n",
              "    <tr>\n",
              "      <th>10</th>\n",
              "      <td>3.849562</td>\n",
              "      <td>month_sin</td>\n",
              "    </tr>\n",
              "    <tr>\n",
              "      <th>9</th>\n",
              "      <td>2.707700</td>\n",
              "      <td>hour_cos</td>\n",
              "    </tr>\n",
              "    <tr>\n",
              "      <th>11</th>\n",
              "      <td>2.075886</td>\n",
              "      <td>month_cos</td>\n",
              "    </tr>\n",
              "    <tr>\n",
              "      <th>5</th>\n",
              "      <td>1.746682</td>\n",
              "      <td>is_weekend</td>\n",
              "    </tr>\n",
              "    <tr>\n",
              "      <th>8</th>\n",
              "      <td>1.698022</td>\n",
              "      <td>hour_sin</td>\n",
              "    </tr>\n",
              "    <tr>\n",
              "      <th>3</th>\n",
              "      <td>1.271607</td>\n",
              "      <td>day_of_week</td>\n",
              "    </tr>\n",
              "  </tbody>\n",
              "</table>\n",
              "</div>\n",
              "      <button class=\"colab-df-convert\" onclick=\"convertToInteractive('df-2c4a87bf-bd32-408e-969a-2005f5c5548b')\"\n",
              "              title=\"Convert this dataframe to an interactive table.\"\n",
              "              style=\"display:none;\">\n",
              "        \n",
              "  <svg xmlns=\"http://www.w3.org/2000/svg\" height=\"24px\"viewBox=\"0 0 24 24\"\n",
              "       width=\"24px\">\n",
              "    <path d=\"M0 0h24v24H0V0z\" fill=\"none\"/>\n",
              "    <path d=\"M18.56 5.44l.94 2.06.94-2.06 2.06-.94-2.06-.94-.94-2.06-.94 2.06-2.06.94zm-11 1L8.5 8.5l.94-2.06 2.06-.94-2.06-.94L8.5 2.5l-.94 2.06-2.06.94zm10 10l.94 2.06.94-2.06 2.06-.94-2.06-.94-.94-2.06-.94 2.06-2.06.94z\"/><path d=\"M17.41 7.96l-1.37-1.37c-.4-.4-.92-.59-1.43-.59-.52 0-1.04.2-1.43.59L10.3 9.45l-7.72 7.72c-.78.78-.78 2.05 0 2.83L4 21.41c.39.39.9.59 1.41.59.51 0 1.02-.2 1.41-.59l7.78-7.78 2.81-2.81c.8-.78.8-2.07 0-2.86zM5.41 20L4 18.59l7.72-7.72 1.47 1.35L5.41 20z\"/>\n",
              "  </svg>\n",
              "      </button>\n",
              "      \n",
              "  <style>\n",
              "    .colab-df-container {\n",
              "      display:flex;\n",
              "      flex-wrap:wrap;\n",
              "      gap: 12px;\n",
              "    }\n",
              "\n",
              "    .colab-df-convert {\n",
              "      background-color: #E8F0FE;\n",
              "      border: none;\n",
              "      border-radius: 50%;\n",
              "      cursor: pointer;\n",
              "      display: none;\n",
              "      fill: #1967D2;\n",
              "      height: 32px;\n",
              "      padding: 0 0 0 0;\n",
              "      width: 32px;\n",
              "    }\n",
              "\n",
              "    .colab-df-convert:hover {\n",
              "      background-color: #E2EBFA;\n",
              "      box-shadow: 0px 1px 2px rgba(60, 64, 67, 0.3), 0px 1px 3px 1px rgba(60, 64, 67, 0.15);\n",
              "      fill: #174EA6;\n",
              "    }\n",
              "\n",
              "    [theme=dark] .colab-df-convert {\n",
              "      background-color: #3B4455;\n",
              "      fill: #D2E3FC;\n",
              "    }\n",
              "\n",
              "    [theme=dark] .colab-df-convert:hover {\n",
              "      background-color: #434B5C;\n",
              "      box-shadow: 0px 1px 3px 1px rgba(0, 0, 0, 0.15);\n",
              "      filter: drop-shadow(0px 1px 2px rgba(0, 0, 0, 0.3));\n",
              "      fill: #FFFFFF;\n",
              "    }\n",
              "  </style>\n",
              "\n",
              "      <script>\n",
              "        const buttonEl =\n",
              "          document.querySelector('#df-2c4a87bf-bd32-408e-969a-2005f5c5548b button.colab-df-convert');\n",
              "        buttonEl.style.display =\n",
              "          google.colab.kernel.accessAllowed ? 'block' : 'none';\n",
              "\n",
              "        async function convertToInteractive(key) {\n",
              "          const element = document.querySelector('#df-2c4a87bf-bd32-408e-969a-2005f5c5548b');\n",
              "          const dataTable =\n",
              "            await google.colab.kernel.invokeFunction('convertToInteractive',\n",
              "                                                     [key], {});\n",
              "          if (!dataTable) return;\n",
              "\n",
              "          const docLinkHtml = 'Like what you see? Visit the ' +\n",
              "            '<a target=\"_blank\" href=https://colab.research.google.com/notebooks/data_table.ipynb>data table notebook</a>'\n",
              "            + ' to learn more about interactive tables.';\n",
              "          element.innerHTML = '';\n",
              "          dataTable['output_type'] = 'display_data';\n",
              "          await google.colab.output.renderOutput(dataTable, element);\n",
              "          const docLink = document.createElement('div');\n",
              "          docLink.innerHTML = docLinkHtml;\n",
              "          element.appendChild(docLink);\n",
              "        }\n",
              "      </script>\n",
              "    </div>\n",
              "  </div>\n",
              "  "
            ]
          },
          "metadata": {},
          "execution_count": 42
        }
      ]
    },
    {
      "cell_type": "code",
      "source": [
        "vif_info.round(decimals = 2)"
      ],
      "metadata": {
        "colab": {
          "base_uri": "https://localhost:8080/",
          "height": 425
        },
        "id": "Ab2wfkShBcg-",
        "outputId": "c5ba35b2-63cc-4272-e599-265efdec0531"
      },
      "execution_count": 43,
      "outputs": [
        {
          "output_type": "execute_result",
          "data": {
            "text/plain": [
              "      VIF          Columns\n",
              "0    4.04           row_id\n",
              "1   33.12             year\n",
              "2    4.19              day\n",
              "3    1.27      day_of_week\n",
              "4   18.45  is_quarter_date\n",
              "5    1.75       is_weekend\n",
              "6    8.64      Type_of_Day\n",
              "7    8.31           Season\n",
              "8    1.70         hour_sin\n",
              "9    2.71         hour_cos\n",
              "10   3.85        month_sin\n",
              "11   2.08        month_cos"
            ],
            "text/html": [
              "\n",
              "  <div id=\"df-e8863628-0177-4b3d-aa46-2520b5e326db\">\n",
              "    <div class=\"colab-df-container\">\n",
              "      <div>\n",
              "<style scoped>\n",
              "    .dataframe tbody tr th:only-of-type {\n",
              "        vertical-align: middle;\n",
              "    }\n",
              "\n",
              "    .dataframe tbody tr th {\n",
              "        vertical-align: top;\n",
              "    }\n",
              "\n",
              "    .dataframe thead th {\n",
              "        text-align: right;\n",
              "    }\n",
              "</style>\n",
              "<table border=\"1\" class=\"dataframe\">\n",
              "  <thead>\n",
              "    <tr style=\"text-align: right;\">\n",
              "      <th></th>\n",
              "      <th>VIF</th>\n",
              "      <th>Columns</th>\n",
              "    </tr>\n",
              "  </thead>\n",
              "  <tbody>\n",
              "    <tr>\n",
              "      <th>0</th>\n",
              "      <td>4.04</td>\n",
              "      <td>row_id</td>\n",
              "    </tr>\n",
              "    <tr>\n",
              "      <th>1</th>\n",
              "      <td>33.12</td>\n",
              "      <td>year</td>\n",
              "    </tr>\n",
              "    <tr>\n",
              "      <th>2</th>\n",
              "      <td>4.19</td>\n",
              "      <td>day</td>\n",
              "    </tr>\n",
              "    <tr>\n",
              "      <th>3</th>\n",
              "      <td>1.27</td>\n",
              "      <td>day_of_week</td>\n",
              "    </tr>\n",
              "    <tr>\n",
              "      <th>4</th>\n",
              "      <td>18.45</td>\n",
              "      <td>is_quarter_date</td>\n",
              "    </tr>\n",
              "    <tr>\n",
              "      <th>5</th>\n",
              "      <td>1.75</td>\n",
              "      <td>is_weekend</td>\n",
              "    </tr>\n",
              "    <tr>\n",
              "      <th>6</th>\n",
              "      <td>8.64</td>\n",
              "      <td>Type_of_Day</td>\n",
              "    </tr>\n",
              "    <tr>\n",
              "      <th>7</th>\n",
              "      <td>8.31</td>\n",
              "      <td>Season</td>\n",
              "    </tr>\n",
              "    <tr>\n",
              "      <th>8</th>\n",
              "      <td>1.70</td>\n",
              "      <td>hour_sin</td>\n",
              "    </tr>\n",
              "    <tr>\n",
              "      <th>9</th>\n",
              "      <td>2.71</td>\n",
              "      <td>hour_cos</td>\n",
              "    </tr>\n",
              "    <tr>\n",
              "      <th>10</th>\n",
              "      <td>3.85</td>\n",
              "      <td>month_sin</td>\n",
              "    </tr>\n",
              "    <tr>\n",
              "      <th>11</th>\n",
              "      <td>2.08</td>\n",
              "      <td>month_cos</td>\n",
              "    </tr>\n",
              "  </tbody>\n",
              "</table>\n",
              "</div>\n",
              "      <button class=\"colab-df-convert\" onclick=\"convertToInteractive('df-e8863628-0177-4b3d-aa46-2520b5e326db')\"\n",
              "              title=\"Convert this dataframe to an interactive table.\"\n",
              "              style=\"display:none;\">\n",
              "        \n",
              "  <svg xmlns=\"http://www.w3.org/2000/svg\" height=\"24px\"viewBox=\"0 0 24 24\"\n",
              "       width=\"24px\">\n",
              "    <path d=\"M0 0h24v24H0V0z\" fill=\"none\"/>\n",
              "    <path d=\"M18.56 5.44l.94 2.06.94-2.06 2.06-.94-2.06-.94-.94-2.06-.94 2.06-2.06.94zm-11 1L8.5 8.5l.94-2.06 2.06-.94-2.06-.94L8.5 2.5l-.94 2.06-2.06.94zm10 10l.94 2.06.94-2.06 2.06-.94-2.06-.94-.94-2.06-.94 2.06-2.06.94z\"/><path d=\"M17.41 7.96l-1.37-1.37c-.4-.4-.92-.59-1.43-.59-.52 0-1.04.2-1.43.59L10.3 9.45l-7.72 7.72c-.78.78-.78 2.05 0 2.83L4 21.41c.39.39.9.59 1.41.59.51 0 1.02-.2 1.41-.59l7.78-7.78 2.81-2.81c.8-.78.8-2.07 0-2.86zM5.41 20L4 18.59l7.72-7.72 1.47 1.35L5.41 20z\"/>\n",
              "  </svg>\n",
              "      </button>\n",
              "      \n",
              "  <style>\n",
              "    .colab-df-container {\n",
              "      display:flex;\n",
              "      flex-wrap:wrap;\n",
              "      gap: 12px;\n",
              "    }\n",
              "\n",
              "    .colab-df-convert {\n",
              "      background-color: #E8F0FE;\n",
              "      border: none;\n",
              "      border-radius: 50%;\n",
              "      cursor: pointer;\n",
              "      display: none;\n",
              "      fill: #1967D2;\n",
              "      height: 32px;\n",
              "      padding: 0 0 0 0;\n",
              "      width: 32px;\n",
              "    }\n",
              "\n",
              "    .colab-df-convert:hover {\n",
              "      background-color: #E2EBFA;\n",
              "      box-shadow: 0px 1px 2px rgba(60, 64, 67, 0.3), 0px 1px 3px 1px rgba(60, 64, 67, 0.15);\n",
              "      fill: #174EA6;\n",
              "    }\n",
              "\n",
              "    [theme=dark] .colab-df-convert {\n",
              "      background-color: #3B4455;\n",
              "      fill: #D2E3FC;\n",
              "    }\n",
              "\n",
              "    [theme=dark] .colab-df-convert:hover {\n",
              "      background-color: #434B5C;\n",
              "      box-shadow: 0px 1px 3px 1px rgba(0, 0, 0, 0.15);\n",
              "      filter: drop-shadow(0px 1px 2px rgba(0, 0, 0, 0.3));\n",
              "      fill: #FFFFFF;\n",
              "    }\n",
              "  </style>\n",
              "\n",
              "      <script>\n",
              "        const buttonEl =\n",
              "          document.querySelector('#df-e8863628-0177-4b3d-aa46-2520b5e326db button.colab-df-convert');\n",
              "        buttonEl.style.display =\n",
              "          google.colab.kernel.accessAllowed ? 'block' : 'none';\n",
              "\n",
              "        async function convertToInteractive(key) {\n",
              "          const element = document.querySelector('#df-e8863628-0177-4b3d-aa46-2520b5e326db');\n",
              "          const dataTable =\n",
              "            await google.colab.kernel.invokeFunction('convertToInteractive',\n",
              "                                                     [key], {});\n",
              "          if (!dataTable) return;\n",
              "\n",
              "          const docLinkHtml = 'Like what you see? Visit the ' +\n",
              "            '<a target=\"_blank\" href=https://colab.research.google.com/notebooks/data_table.ipynb>data table notebook</a>'\n",
              "            + ' to learn more about interactive tables.';\n",
              "          element.innerHTML = '';\n",
              "          dataTable['output_type'] = 'display_data';\n",
              "          await google.colab.output.renderOutput(dataTable, element);\n",
              "          const docLink = document.createElement('div');\n",
              "          docLink.innerHTML = docLinkHtml;\n",
              "          element.appendChild(docLink);\n",
              "        }\n",
              "      </script>\n",
              "    </div>\n",
              "  </div>\n",
              "  "
            ]
          },
          "metadata": {},
          "execution_count": 43
        }
      ]
    },
    {
      "cell_type": "code",
      "source": [
        "test.dtypes\n",
        "print(test)"
      ],
      "metadata": {
        "colab": {
          "base_uri": "https://localhost:8080/"
        },
        "id": "hVNfkC22Bjg5",
        "outputId": "2d6bb68a-70d8-445d-cfec-f4743285e05d"
      },
      "execution_count": 44,
      "outputs": [
        {
          "output_type": "stream",
          "name": "stdout",
          "text": [
            "       row_id             datetime  year  day  day_of_week  is_quarter_date  \\\n",
            "0       94993  2019-01-01 00:00:00  2019    1     0.540302                1   \n",
            "1       94994  2019-01-01 01:00:00  2019    1     0.540302                1   \n",
            "2       94995  2019-01-01 02:00:00  2019    1     0.540302                1   \n",
            "3       94996  2019-01-01 03:00:00  2019    1     0.540302                1   \n",
            "4       94997  2019-01-01 04:00:00  2019    1     0.540302                1   \n",
            "...       ...                  ...   ...  ...          ...              ...   \n",
            "26299  121292  2021-12-31 19:00:00  2021   31    -0.653644                4   \n",
            "26300  121293  2021-12-31 20:00:00  2021   31    -0.653644                4   \n",
            "26301  121294  2021-12-31 21:00:00  2021   31    -0.653644                4   \n",
            "26302  121295  2021-12-31 22:00:00  2021   31    -0.653644                4   \n",
            "26303  121296  2021-12-31 23:00:00  2021   31    -0.653644                4   \n",
            "\n",
            "       is_weekend  Type_of_Day  Season  hour_sin  hour_cos  month_sin  \\\n",
            "0               0            2       1  0.000000  1.000000        0.0   \n",
            "1               0            5       1  0.258819  0.965926        0.0   \n",
            "2               0            5       1  0.500000  0.866025        0.0   \n",
            "3               0            5       1  0.707107  0.707107        0.0   \n",
            "4               0            4       1  0.866025  0.500000        0.0   \n",
            "...           ...          ...     ...       ...       ...        ...   \n",
            "26299           0            3       1 -0.965926  0.258819       -0.5   \n",
            "26300           0            3       1 -0.866025  0.500000       -0.5   \n",
            "26301           0            2       1 -0.707107  0.707107       -0.5   \n",
            "26302           0            2       1 -0.500000  0.866025       -0.5   \n",
            "26303           0            2       1 -0.258819  0.965926       -0.5   \n",
            "\n",
            "       month_cos  \n",
            "0       1.000000  \n",
            "1       1.000000  \n",
            "2       1.000000  \n",
            "3       1.000000  \n",
            "4       1.000000  \n",
            "...          ...  \n",
            "26299   0.866025  \n",
            "26300   0.866025  \n",
            "26301   0.866025  \n",
            "26302   0.866025  \n",
            "26303   0.866025  \n",
            "\n",
            "[26304 rows x 13 columns]\n"
          ]
        }
      ]
    },
    {
      "cell_type": "code",
      "source": [
        "X.drop(['year', 'is_quarter_date'], axis=1, inplace=True)"
      ],
      "metadata": {
        "id": "BloTGq1WBmSO"
      },
      "execution_count": 45,
      "outputs": []
    },
    {
      "cell_type": "code",
      "source": [
        "test.drop(['datetime', 'year', 'is_quarter_date'], axis=1, inplace=True)"
      ],
      "metadata": {
        "id": "Hg8AAgo-BqsH"
      },
      "execution_count": 46,
      "outputs": []
    },
    {
      "cell_type": "code",
      "source": [
        "y.isnull().sum()"
      ],
      "metadata": {
        "colab": {
          "base_uri": "https://localhost:8080/"
        },
        "id": "XttGmsKXBw24",
        "outputId": "2cd6d99d-0954-4e1c-8f11-1a3073e44e0a"
      },
      "execution_count": 47,
      "outputs": [
        {
          "output_type": "execute_result",
          "data": {
            "text/plain": [
              "0"
            ]
          },
          "metadata": {},
          "execution_count": 47
        }
      ]
    },
    {
      "cell_type": "code",
      "source": [
        "print(X)\n",
        "print(vif_info)"
      ],
      "metadata": {
        "colab": {
          "base_uri": "https://localhost:8080/"
        },
        "id": "MsNTG3Q0B2ju",
        "outputId": "aa5d9bfa-cee9-4fa1-e8b7-7c8729099b8c"
      },
      "execution_count": 48,
      "outputs": [
        {
          "output_type": "stream",
          "name": "stdout",
          "text": [
            "       row_id  day  day_of_week  is_weekend  Type_of_Day  Season  hour_sin  \\\n",
            "0           1    1     0.283662           1            2       2  0.000000   \n",
            "1           2    1     0.283662           1            5       2  0.258819   \n",
            "2           3    1     0.283662           1            5       2  0.500000   \n",
            "3           4    1     0.283662           1            5       2  0.707107   \n",
            "4           5    1     0.283662           1            4       2  0.866025   \n",
            "...       ...  ...          ...         ...          ...     ...       ...   \n",
            "94987   94988   31     1.000000           0            3       1 -0.965926   \n",
            "94988   94989   31     1.000000           0            3       1 -0.866025   \n",
            "94989   94990   31     1.000000           0            2       1 -0.707107   \n",
            "94990   94991   31     1.000000           0            2       1 -0.500000   \n",
            "94991   94992   31     1.000000           0            2       1 -0.258819   \n",
            "\n",
            "       hour_cos  month_sin  month_cos  \n",
            "0      1.000000   0.866025   0.500000  \n",
            "1      0.965926   0.866025   0.500000  \n",
            "2      0.866025   0.866025   0.500000  \n",
            "3      0.707107   0.866025   0.500000  \n",
            "4      0.500000   0.866025   0.500000  \n",
            "...         ...        ...        ...  \n",
            "94987  0.258819  -0.500000   0.866025  \n",
            "94988  0.500000  -0.500000   0.866025  \n",
            "94989  0.707107  -0.500000   0.866025  \n",
            "94990  0.866025  -0.500000   0.866025  \n",
            "94991  0.965926  -0.500000   0.866025  \n",
            "\n",
            "[93092 rows x 10 columns]\n",
            "          VIF          Columns\n",
            "0    4.036494           row_id\n",
            "1   33.123057             year\n",
            "2    4.193170              day\n",
            "3    1.271607      day_of_week\n",
            "4   18.452855  is_quarter_date\n",
            "5    1.746682       is_weekend\n",
            "6    8.638707      Type_of_Day\n",
            "7    8.311279           Season\n",
            "8    1.698022         hour_sin\n",
            "9    2.707700         hour_cos\n",
            "10   3.849562        month_sin\n",
            "11   2.075886        month_cos\n"
          ]
        }
      ]
    },
    {
      "cell_type": "code",
      "source": [
        "vif_info_afterdrop = pd.DataFrame()\n",
        "vif_info_afterdrop['VIF'] = [variance_inflation_factor(X.values, i) for i in range(X.shape[1])]\n",
        "vif_info_afterdrop['Columns'] = X.columns\n",
        "vif_info_afterdrop.sort_values('VIF', ascending=False)"
      ],
      "metadata": {
        "colab": {
          "base_uri": "https://localhost:8080/",
          "height": 363
        },
        "id": "WzQT2XdXB5Xc",
        "outputId": "2aa2f25f-5606-4bb8-84b8-749eeaff08b0"
      },
      "execution_count": 49,
      "outputs": [
        {
          "output_type": "execute_result",
          "data": {
            "text/plain": [
              "        VIF      Columns\n",
              "4  6.115666  Type_of_Day\n",
              "5  5.938257       Season\n",
              "1  3.484628          day\n",
              "0  3.357730       row_id\n",
              "7  2.208545     hour_cos\n",
              "8  1.726466    month_sin\n",
              "3  1.707404   is_weekend\n",
              "9  1.699370    month_cos\n",
              "6  1.494291     hour_sin\n",
              "2  1.269792  day_of_week"
            ],
            "text/html": [
              "\n",
              "  <div id=\"df-552c1ec5-4ea7-4dae-910b-656aa2681dcb\">\n",
              "    <div class=\"colab-df-container\">\n",
              "      <div>\n",
              "<style scoped>\n",
              "    .dataframe tbody tr th:only-of-type {\n",
              "        vertical-align: middle;\n",
              "    }\n",
              "\n",
              "    .dataframe tbody tr th {\n",
              "        vertical-align: top;\n",
              "    }\n",
              "\n",
              "    .dataframe thead th {\n",
              "        text-align: right;\n",
              "    }\n",
              "</style>\n",
              "<table border=\"1\" class=\"dataframe\">\n",
              "  <thead>\n",
              "    <tr style=\"text-align: right;\">\n",
              "      <th></th>\n",
              "      <th>VIF</th>\n",
              "      <th>Columns</th>\n",
              "    </tr>\n",
              "  </thead>\n",
              "  <tbody>\n",
              "    <tr>\n",
              "      <th>4</th>\n",
              "      <td>6.115666</td>\n",
              "      <td>Type_of_Day</td>\n",
              "    </tr>\n",
              "    <tr>\n",
              "      <th>5</th>\n",
              "      <td>5.938257</td>\n",
              "      <td>Season</td>\n",
              "    </tr>\n",
              "    <tr>\n",
              "      <th>1</th>\n",
              "      <td>3.484628</td>\n",
              "      <td>day</td>\n",
              "    </tr>\n",
              "    <tr>\n",
              "      <th>0</th>\n",
              "      <td>3.357730</td>\n",
              "      <td>row_id</td>\n",
              "    </tr>\n",
              "    <tr>\n",
              "      <th>7</th>\n",
              "      <td>2.208545</td>\n",
              "      <td>hour_cos</td>\n",
              "    </tr>\n",
              "    <tr>\n",
              "      <th>8</th>\n",
              "      <td>1.726466</td>\n",
              "      <td>month_sin</td>\n",
              "    </tr>\n",
              "    <tr>\n",
              "      <th>3</th>\n",
              "      <td>1.707404</td>\n",
              "      <td>is_weekend</td>\n",
              "    </tr>\n",
              "    <tr>\n",
              "      <th>9</th>\n",
              "      <td>1.699370</td>\n",
              "      <td>month_cos</td>\n",
              "    </tr>\n",
              "    <tr>\n",
              "      <th>6</th>\n",
              "      <td>1.494291</td>\n",
              "      <td>hour_sin</td>\n",
              "    </tr>\n",
              "    <tr>\n",
              "      <th>2</th>\n",
              "      <td>1.269792</td>\n",
              "      <td>day_of_week</td>\n",
              "    </tr>\n",
              "  </tbody>\n",
              "</table>\n",
              "</div>\n",
              "      <button class=\"colab-df-convert\" onclick=\"convertToInteractive('df-552c1ec5-4ea7-4dae-910b-656aa2681dcb')\"\n",
              "              title=\"Convert this dataframe to an interactive table.\"\n",
              "              style=\"display:none;\">\n",
              "        \n",
              "  <svg xmlns=\"http://www.w3.org/2000/svg\" height=\"24px\"viewBox=\"0 0 24 24\"\n",
              "       width=\"24px\">\n",
              "    <path d=\"M0 0h24v24H0V0z\" fill=\"none\"/>\n",
              "    <path d=\"M18.56 5.44l.94 2.06.94-2.06 2.06-.94-2.06-.94-.94-2.06-.94 2.06-2.06.94zm-11 1L8.5 8.5l.94-2.06 2.06-.94-2.06-.94L8.5 2.5l-.94 2.06-2.06.94zm10 10l.94 2.06.94-2.06 2.06-.94-2.06-.94-.94-2.06-.94 2.06-2.06.94z\"/><path d=\"M17.41 7.96l-1.37-1.37c-.4-.4-.92-.59-1.43-.59-.52 0-1.04.2-1.43.59L10.3 9.45l-7.72 7.72c-.78.78-.78 2.05 0 2.83L4 21.41c.39.39.9.59 1.41.59.51 0 1.02-.2 1.41-.59l7.78-7.78 2.81-2.81c.8-.78.8-2.07 0-2.86zM5.41 20L4 18.59l7.72-7.72 1.47 1.35L5.41 20z\"/>\n",
              "  </svg>\n",
              "      </button>\n",
              "      \n",
              "  <style>\n",
              "    .colab-df-container {\n",
              "      display:flex;\n",
              "      flex-wrap:wrap;\n",
              "      gap: 12px;\n",
              "    }\n",
              "\n",
              "    .colab-df-convert {\n",
              "      background-color: #E8F0FE;\n",
              "      border: none;\n",
              "      border-radius: 50%;\n",
              "      cursor: pointer;\n",
              "      display: none;\n",
              "      fill: #1967D2;\n",
              "      height: 32px;\n",
              "      padding: 0 0 0 0;\n",
              "      width: 32px;\n",
              "    }\n",
              "\n",
              "    .colab-df-convert:hover {\n",
              "      background-color: #E2EBFA;\n",
              "      box-shadow: 0px 1px 2px rgba(60, 64, 67, 0.3), 0px 1px 3px 1px rgba(60, 64, 67, 0.15);\n",
              "      fill: #174EA6;\n",
              "    }\n",
              "\n",
              "    [theme=dark] .colab-df-convert {\n",
              "      background-color: #3B4455;\n",
              "      fill: #D2E3FC;\n",
              "    }\n",
              "\n",
              "    [theme=dark] .colab-df-convert:hover {\n",
              "      background-color: #434B5C;\n",
              "      box-shadow: 0px 1px 3px 1px rgba(0, 0, 0, 0.15);\n",
              "      filter: drop-shadow(0px 1px 2px rgba(0, 0, 0, 0.3));\n",
              "      fill: #FFFFFF;\n",
              "    }\n",
              "  </style>\n",
              "\n",
              "      <script>\n",
              "        const buttonEl =\n",
              "          document.querySelector('#df-552c1ec5-4ea7-4dae-910b-656aa2681dcb button.colab-df-convert');\n",
              "        buttonEl.style.display =\n",
              "          google.colab.kernel.accessAllowed ? 'block' : 'none';\n",
              "\n",
              "        async function convertToInteractive(key) {\n",
              "          const element = document.querySelector('#df-552c1ec5-4ea7-4dae-910b-656aa2681dcb');\n",
              "          const dataTable =\n",
              "            await google.colab.kernel.invokeFunction('convertToInteractive',\n",
              "                                                     [key], {});\n",
              "          if (!dataTable) return;\n",
              "\n",
              "          const docLinkHtml = 'Like what you see? Visit the ' +\n",
              "            '<a target=\"_blank\" href=https://colab.research.google.com/notebooks/data_table.ipynb>data table notebook</a>'\n",
              "            + ' to learn more about interactive tables.';\n",
              "          element.innerHTML = '';\n",
              "          dataTable['output_type'] = 'display_data';\n",
              "          await google.colab.output.renderOutput(dataTable, element);\n",
              "          const docLink = document.createElement('div');\n",
              "          docLink.innerHTML = docLinkHtml;\n",
              "          element.appendChild(docLink);\n",
              "        }\n",
              "      </script>\n",
              "    </div>\n",
              "  </div>\n",
              "  "
            ]
          },
          "metadata": {},
          "execution_count": 49
        }
      ]
    },
    {
      "cell_type": "code",
      "source": [
        "from sklearn.model_selection import train_test_split\n",
        "from sklearn.preprocessing import StandardScaler\n",
        "from sklearn.preprocessing import LabelEncoder\n",
        "\n",
        "from sklearn.metrics import mean_squared_error as mse\n",
        "from sklearn.metrics import r2_score as r2\n",
        "\n",
        "from sklearn.linear_model import Ridge\n",
        "from sklearn.neural_network import MLPRegressor\n",
        "from sklearn.ensemble import RandomForestRegressor\n",
        "from catboost import CatBoostRegressor\n",
        "from xgboost import XGBRegressor, XGBRFRegressor\n",
        "from sklearn.linear_model import Lasso, LinearRegression\n",
        "from lightgbm import LGBMRegressor"
      ],
      "metadata": {
        "id": "qB1rLstQB-9a"
      },
      "execution_count": 50,
      "outputs": []
    },
    {
      "cell_type": "code",
      "source": [
        "X.values.round(decimals = 2)"
      ],
      "metadata": {
        "colab": {
          "base_uri": "https://localhost:8080/"
        },
        "id": "cWNz25wvCHf7",
        "outputId": "8021af79-5b2d-443b-be34-cef021e7f679"
      },
      "execution_count": 51,
      "outputs": [
        {
          "output_type": "execute_result",
          "data": {
            "text/plain": [
              "array([[ 1.0000e+00,  1.0000e+00,  2.8000e-01, ...,  1.0000e+00,\n",
              "         8.7000e-01,  5.0000e-01],\n",
              "       [ 2.0000e+00,  1.0000e+00,  2.8000e-01, ...,  9.7000e-01,\n",
              "         8.7000e-01,  5.0000e-01],\n",
              "       [ 3.0000e+00,  1.0000e+00,  2.8000e-01, ...,  8.7000e-01,\n",
              "         8.7000e-01,  5.0000e-01],\n",
              "       ...,\n",
              "       [ 9.4990e+04,  3.1000e+01,  1.0000e+00, ...,  7.1000e-01,\n",
              "        -5.0000e-01,  8.7000e-01],\n",
              "       [ 9.4991e+04,  3.1000e+01,  1.0000e+00, ...,  8.7000e-01,\n",
              "        -5.0000e-01,  8.7000e-01],\n",
              "       [ 9.4992e+04,  3.1000e+01,  1.0000e+00, ...,  9.7000e-01,\n",
              "        -5.0000e-01,  8.7000e-01]])"
            ]
          },
          "metadata": {},
          "execution_count": 51
        }
      ]
    },
    {
      "cell_type": "code",
      "source": [
        "z = (train['energy'].count() - train['energy'].mean()) / train['energy'].std()\n",
        "z"
      ],
      "metadata": {
        "colab": {
          "base_uri": "https://localhost:8080/"
        },
        "id": "kkcH247YCLrR",
        "outputId": "ea529103-693e-47bc-de71-7149ab8dee83"
      },
      "execution_count": 52,
      "outputs": [
        {
          "output_type": "execute_result",
          "data": {
            "text/plain": [
              "247.45067850651392"
            ]
          },
          "metadata": {},
          "execution_count": 52
        }
      ]
    },
    {
      "cell_type": "code",
      "source": [
        "y = y - z\n",
        "y.round(decimals=2)"
      ],
      "metadata": {
        "colab": {
          "base_uri": "https://localhost:8080/"
        },
        "id": "L7zK5CWoCN8N",
        "outputId": "347288f7-6098-4a1d-906f-1cb9ef43e050"
      },
      "execution_count": 53,
      "outputs": [
        {
          "output_type": "execute_result",
          "data": {
            "text/plain": [
              "0        1012.53\n",
              "1         848.09\n",
              "2         808.80\n",
              "3         787.29\n",
              "4         778.88\n",
              "          ...   \n",
              "94987    2281.00\n",
              "94988    2214.43\n",
              "94989    2118.54\n",
              "94990    2095.49\n",
              "94991    1932.77\n",
              "Name: energy, Length: 93092, dtype: float64"
            ]
          },
          "metadata": {},
          "execution_count": 53
        }
      ]
    },
    {
      "cell_type": "code",
      "source": [
        "le = LabelEncoder()\n",
        "encoded_y = le.fit_transform(y)"
      ],
      "metadata": {
        "id": "oXysbWZPCUqC"
      },
      "execution_count": 54,
      "outputs": []
    },
    {
      "cell_type": "code",
      "source": [
        "encoded_y"
      ],
      "metadata": {
        "colab": {
          "base_uri": "https://localhost:8080/"
        },
        "id": "ed8V8EqqCWyW",
        "outputId": "6462fe5b-a717-42eb-e287-fadc1266c013"
      },
      "execution_count": 55,
      "outputs": [
        {
          "output_type": "execute_result",
          "data": {
            "text/plain": [
              "array([ 7067,  1762,  1038, ..., 57059, 56677, 53101])"
            ]
          },
          "metadata": {},
          "execution_count": 55
        }
      ]
    },
    {
      "cell_type": "code",
      "source": [
        "X_train, X_test, y_train, y_test = train_test_split(X.values, y, train_size=0.7, random_state=21)"
      ],
      "metadata": {
        "id": "jILmp4KSCc15"
      },
      "execution_count": 56,
      "outputs": []
    },
    {
      "cell_type": "code",
      "source": [
        "X_test = X_test.round(decimals = 2)"
      ],
      "metadata": {
        "id": "m5jzLL2yCfsP"
      },
      "execution_count": 57,
      "outputs": []
    },
    {
      "cell_type": "code",
      "source": [
        "X_train = X_train.round(decimals = 2)"
      ],
      "metadata": {
        "id": "gYTJ8ZmsCjwn"
      },
      "execution_count": 58,
      "outputs": []
    },
    {
      "cell_type": "code",
      "source": [
        "y_test = y_test.round(decimals=2)"
      ],
      "metadata": {
        "id": "etKSdVNuCoBq"
      },
      "execution_count": 59,
      "outputs": []
    },
    {
      "cell_type": "code",
      "source": [
        "y_train = y_train.round(decimals =2)"
      ],
      "metadata": {
        "id": "aDGNxvucCt3A"
      },
      "execution_count": 60,
      "outputs": []
    },
    {
      "cell_type": "code",
      "source": [
        "models = {\n",
        "    'Linear Regression(Ridge)' : Ridge(),\n",
        "    '          Neural Network' : MLPRegressor(),\n",
        "    '           Random Forest' : RandomForestRegressor(),\n",
        "    '                Catboost' : CatBoostRegressor(verbose=0),\n",
        "    '       XGBoost Regressor' : XGBRegressor(),\n",
        "    '    XGBoost RF Regressor' : XGBRFRegressor(),\n",
        "    'Linear Regression(lasso)' : Lasso(),\n",
        "    '       Linear Regression' : LinearRegression(),\n",
        "    ' Light Gradient Boosting' : LGBMRegressor()\n",
        "}\n",
        "\n",
        "for name, models in models.items():\n",
        "    models.fit(X_train, y_train)\n",
        "    print(name + ' trained.')"
      ],
      "metadata": {
        "colab": {
          "base_uri": "https://localhost:8080/"
        },
        "id": "ubfvjkEcCwFc",
        "outputId": "adbe2049-9f2e-44bd-fe5b-42c3eb7c877c"
      },
      "execution_count": 61,
      "outputs": [
        {
          "output_type": "stream",
          "name": "stdout",
          "text": [
            "Linear Regression(Ridge) trained.\n",
            "          Neural Network trained.\n",
            "           Random Forest trained.\n",
            "                Catboost trained.\n",
            "       XGBoost Regressor trained.\n",
            "    XGBoost RF Regressor trained.\n",
            "Linear Regression(lasso) trained.\n",
            "       Linear Regression trained.\n",
            " Light Gradient Boosting trained.\n"
          ]
        }
      ]
    },
    {
      "cell_type": "code",
      "source": [
        "def get_rmse(y_true, y_pred):\n",
        "    rmse = np.sqrt(np.mean((y_test - y_pred)**2))\n",
        "    return rmse"
      ],
      "metadata": {
        "id": "kM0Ib0eYD_SL"
      },
      "execution_count": 62,
      "outputs": []
    },
    {
      "cell_type": "code",
      "source": [
        "def get_r2(y_test, y_pred):\n",
        "    r2 = 1 - (np.sum((y_test - y_pred)**2) / np.sum((y_test - y_test.mean())**2))\n",
        "    return r2"
      ],
      "metadata": {
        "id": "5F3mzZ2XEEWC"
      },
      "execution_count": 63,
      "outputs": []
    },
    {
      "cell_type": "code",
      "source": [
        "lgbm = LGBMRegressor()\n",
        "lgbm.fit(X_train, y_train)\n",
        "lgbm_pred = lgbm.predict(X_test)\n",
        "lgbm_rmse = mse(y_test, lgbm_pred, squared=False)\n",
        "print(lgbm_rmse)"
      ],
      "metadata": {
        "colab": {
          "base_uri": "https://localhost:8080/"
        },
        "id": "n1Bu4UhzEJI4",
        "outputId": "f32c492c-9561-4a58-d92a-30d54d4c97be"
      },
      "execution_count": 64,
      "outputs": [
        {
          "output_type": "stream",
          "name": "stdout",
          "text": [
            "115.91114850249082\n"
          ]
        }
      ]
    },
    {
      "cell_type": "code",
      "source": [
        "lr = LinearRegression()\n",
        "lr.fit(X_train, y_train)\n",
        "lr_pred = lr.predict(X_test)\n",
        "lr_rmse = mse(y_test, lr_pred, squared=False)\n",
        "print(lr_rmse)"
      ],
      "metadata": {
        "colab": {
          "base_uri": "https://localhost:8080/"
        },
        "id": "TmVK8BNMEOo5",
        "outputId": "5af971c6-798b-4567-fdb5-f281ba4b4cbf"
      },
      "execution_count": 65,
      "outputs": [
        {
          "output_type": "stream",
          "name": "stdout",
          "text": [
            "236.55631046958422\n"
          ]
        }
      ]
    },
    {
      "cell_type": "code",
      "source": [
        "lr_lasso = Lasso()\n",
        "lr_lasso.fit(X_train, y_train)\n",
        "lr_lasso_pred = lr_lasso.predict(X_test)\n",
        "lr_lasso_rmse = mse(y_test, lr_lasso_pred, squared=False)\n",
        "print(lr_lasso_rmse)"
      ],
      "metadata": {
        "colab": {
          "base_uri": "https://localhost:8080/"
        },
        "id": "12f-nFkbETE4",
        "outputId": "428b0fff-a2f8-4d8e-8307-4462dc7beebd"
      },
      "execution_count": 66,
      "outputs": [
        {
          "output_type": "stream",
          "name": "stdout",
          "text": [
            "236.6827873312044\n"
          ]
        }
      ]
    },
    {
      "cell_type": "code",
      "source": [
        "XGRF = XGBRFRegressor()\n",
        "XGRF.fit(X_train,y_train)\n",
        "XGRF_pred = XGRF.predict(X_test)\n",
        "XGRF_rmse = mse(y_test, XGRF_pred, squared=False)\n",
        "print(XGRF_rmse)"
      ],
      "metadata": {
        "colab": {
          "base_uri": "https://localhost:8080/"
        },
        "id": "rpTuazUAEXeQ",
        "outputId": "f7f07cb1-1353-4901-d582-789b3e080af2"
      },
      "execution_count": 67,
      "outputs": [
        {
          "output_type": "stream",
          "name": "stdout",
          "text": [
            "180.55420891288003\n"
          ]
        }
      ]
    },
    {
      "cell_type": "code",
      "source": [
        "XGBRF = XGBRegressor()\n",
        "XGBRF.fit(X_train,y_train)\n",
        "XGBRF_pred = XGBRF.predict(X_test)\n",
        "XGBRF_rmse = mse(y_test, XGBRF_pred, squared=False)\n",
        "print(XGBRF_rmse)"
      ],
      "metadata": {
        "colab": {
          "base_uri": "https://localhost:8080/"
        },
        "id": "PcRLd7kiEcuH",
        "outputId": "bded6893-8bbe-4b46-8f5d-13754a4c03e4"
      },
      "execution_count": 68,
      "outputs": [
        {
          "output_type": "stream",
          "name": "stdout",
          "text": [
            "74.80760682424643\n"
          ]
        }
      ]
    },
    {
      "cell_type": "code",
      "source": [
        "Cat = CatBoostRegressor(verbose=0)\n",
        "Cat.fit(X_train,y_train)\n",
        "Cat_pred = Cat.predict(X_test)\n",
        "Cat_rmse = mse(y_test, Cat_pred, squared=False)\n",
        "print(Cat_rmse)"
      ],
      "metadata": {
        "colab": {
          "base_uri": "https://localhost:8080/"
        },
        "id": "-TmKo2e5Ekix",
        "outputId": "4b605667-665a-41d0-cffb-0714998d98ed"
      },
      "execution_count": 69,
      "outputs": [
        {
          "output_type": "stream",
          "name": "stdout",
          "text": [
            "87.858375818608\n"
          ]
        }
      ]
    },
    {
      "cell_type": "code",
      "source": [
        "RF = RandomForestRegressor()\n",
        "RF.fit(X_train,y_train)\n",
        "RF_pred = RF.predict(X_test)\n",
        "RF_rmse = mse(y_test, RF_pred, squared=False)\n",
        "print(RF_rmse)"
      ],
      "metadata": {
        "colab": {
          "base_uri": "https://localhost:8080/"
        },
        "id": "B7q9cKyBEsmA",
        "outputId": "645b57d3-318f-466f-85c0-fc5030b4987d"
      },
      "execution_count": 70,
      "outputs": [
        {
          "output_type": "stream",
          "name": "stdout",
          "text": [
            "52.214435007101564\n"
          ]
        }
      ]
    },
    {
      "cell_type": "code",
      "source": [
        "NN = MLPRegressor()\n",
        "NN.fit(X_train,y_train)\n",
        "NN_pred = NN.predict(X_test)\n",
        "NN_rmse = mse(y_test, NN_pred, squared=False)\n",
        "print(NN_rmse)"
      ],
      "metadata": {
        "colab": {
          "base_uri": "https://localhost:8080/"
        },
        "id": "nUc4nKo4Ey8Y",
        "outputId": "626b3d75-d78c-4ab3-bcca-e457e59603ed"
      },
      "execution_count": 71,
      "outputs": [
        {
          "output_type": "stream",
          "name": "stdout",
          "text": [
            "292.5260776581168\n"
          ]
        }
      ]
    },
    {
      "cell_type": "code",
      "source": [
        "lr_ridge = Ridge()\n",
        "lr_ridge.fit(X_train,y_train)\n",
        "lr_ridge_pred = lr_ridge.predict(X_test)\n",
        "lr_ridge_rmse = mse(y_test, lr_ridge_pred, squared=False)\n",
        "print(lr_ridge_rmse)"
      ],
      "metadata": {
        "colab": {
          "base_uri": "https://localhost:8080/"
        },
        "id": "Cn7Qs8KNFJTa",
        "outputId": "53cde4a7-51a6-45f8-a5b3-5f5a96caa39e"
      },
      "execution_count": 72,
      "outputs": [
        {
          "output_type": "stream",
          "name": "stdout",
          "text": [
            "236.5563606970875\n"
          ]
        }
      ]
    },
    {
      "cell_type": "code",
      "source": [
        "from sklearn.inspection import permutation_importance\n",
        "\n",
        "result = permutation_importance(lgbm, X.values, y, n_repeats=10, random_state=42)\n",
        "\n",
        "perm_imp_idx = result.importances_mean.argsort()\n",
        "\n",
        "plt.boxplot(result.importances[perm_imp_idx].T, vert=False, labels=X.columns[perm_imp_idx])\n",
        "plt.title('Feature Importance for the Dataset')\n",
        "\n",
        "plt.show()"
      ],
      "metadata": {
        "colab": {
          "base_uri": "https://localhost:8080/",
          "height": 479
        },
        "id": "M4ausro1Fcd5",
        "outputId": "21a56dbf-8564-4452-910c-5c5decc088e1"
      },
      "execution_count": 73,
      "outputs": [
        {
          "output_type": "display_data",
          "data": {
            "text/plain": [
              "<Figure size 640x480 with 1 Axes>"
            ],
            "image/png": "[encoded data removed]"
          },
          "metadata": {}
        }
      ]
    },
    {
      "cell_type": "code",
      "source": [
        "test.values"
      ],
      "metadata": {
        "colab": {
          "base_uri": "https://localhost:8080/"
        },
        "id": "KWEqer0fFwZz",
        "outputId": "3de489bd-f495-480a-ddaa-fe10a8c0b1b8"
      },
      "execution_count": 74,
      "outputs": [
        {
          "output_type": "execute_result",
          "data": {
            "text/plain": [
              "array([[ 9.49930000e+04,  1.00000000e+00,  5.40302306e-01, ...,\n",
              "         1.00000000e+00,  0.00000000e+00,  1.00000000e+00],\n",
              "       [ 9.49940000e+04,  1.00000000e+00,  5.40302306e-01, ...,\n",
              "         9.65925826e-01,  0.00000000e+00,  1.00000000e+00],\n",
              "       [ 9.49950000e+04,  1.00000000e+00,  5.40302306e-01, ...,\n",
              "         8.66025404e-01,  0.00000000e+00,  1.00000000e+00],\n",
              "       ...,\n",
              "       [ 1.21294000e+05,  3.10000000e+01, -6.53643621e-01, ...,\n",
              "         7.07106781e-01, -5.00000000e-01,  8.66025404e-01],\n",
              "       [ 1.21295000e+05,  3.10000000e+01, -6.53643621e-01, ...,\n",
              "         8.66025404e-01, -5.00000000e-01,  8.66025404e-01],\n",
              "       [ 1.21296000e+05,  3.10000000e+01, -6.53643621e-01, ...,\n",
              "         9.65925826e-01, -5.00000000e-01,  8.66025404e-01]])"
            ]
          },
          "metadata": {},
          "execution_count": 74
        }
      ]
    },
    {
      "cell_type": "code",
      "source": [
        "predicted_test = XGBRF.predict(test.values)\n",
        "predicted_test"
      ],
      "metadata": {
        "colab": {
          "base_uri": "https://localhost:8080/"
        },
        "id": "faoSrVmSF_sz",
        "outputId": "1ec14000-b147-49c6-92b7-9bb142f6f1ff"
      },
      "execution_count": 75,
      "outputs": [
        {
          "output_type": "execute_result",
          "data": {
            "text/plain": [
              "array([1777.4381, 1547.3185, 1451.0945, ..., 2279.1543, 2227.557 ,\n",
              "       2080.8674], dtype=float32)"
            ]
          },
          "metadata": {},
          "execution_count": 75
        }
      ]
    },
    {
      "cell_type": "code",
      "source": [
        "final_test = predicted_test + z\n",
        "final_test"
      ],
      "metadata": {
        "colab": {
          "base_uri": "https://localhost:8080/"
        },
        "id": "PatQbqDnGLS4",
        "outputId": "0971651d-95f7-412d-d18d-7f5a2d872866"
      },
      "execution_count": 76,
      "outputs": [
        {
          "output_type": "execute_result",
          "data": {
            "text/plain": [
              "array([2024.8888, 1794.7692, 1698.5452, ..., 2526.605 , 2475.0076,\n",
              "       2328.318 ], dtype=float32)"
            ]
          },
          "metadata": {},
          "execution_count": 76
        }
      ]
    },
    {
      "cell_type": "code",
      "source": [
        "final_test = predicted_test + z\n",
        "final_test"
      ],
      "metadata": {
        "colab": {
          "base_uri": "https://localhost:8080/"
        },
        "id": "ntIUtoHmGRA2",
        "outputId": "adcfff9d-4ae0-4384-f2eb-f340e7dd92ae"
      },
      "execution_count": 77,
      "outputs": [
        {
          "output_type": "execute_result",
          "data": {
            "text/plain": [
              "array([2024.8888, 1794.7692, 1698.5452, ..., 2526.605 , 2475.0076,\n",
              "       2328.318 ], dtype=float32)"
            ]
          },
          "metadata": {},
          "execution_count": 77
        }
      ]
    },
    {
      "cell_type": "code",
      "source": [
        "SS = submission\n",
        "print(SS)"
      ],
      "metadata": {
        "colab": {
          "base_uri": "https://localhost:8080/"
        },
        "id": "mvjWSUYhGY_P",
        "outputId": "4b9992ac-26d5-49a8-d498-8ec43d39dcb9"
      },
      "execution_count": 79,
      "outputs": [
        {
          "output_type": "stream",
          "name": "stdout",
          "text": [
            "       row_id       energy\n",
            "0       94993  1702.995014\n",
            "1       94994  1702.995014\n",
            "2       94995  1702.995014\n",
            "3       94996  1702.995014\n",
            "4       94997  1702.995014\n",
            "...       ...          ...\n",
            "26299  121292  1702.995014\n",
            "26300  121293  1702.995014\n",
            "26301  121294  1702.995014\n",
            "26302  121295  1702.995014\n",
            "26303  121296  1702.995014\n",
            "\n",
            "[26304 rows x 2 columns]\n"
          ]
        }
      ]
    },
    {
      "cell_type": "code",
      "source": [
        "SS['energy'] = final_test\n",
        "SS['energy']"
      ],
      "metadata": {
        "colab": {
          "base_uri": "https://localhost:8080/"
        },
        "id": "V3XesYlHGi4k",
        "outputId": "5dc382a0-9e46-4d63-8451-9dcd7bed0efa"
      },
      "execution_count": 80,
      "outputs": [
        {
          "output_type": "execute_result",
          "data": {
            "text/plain": [
              "0        2024.888794\n",
              "1        1794.769165\n",
              "2        1698.545166\n",
              "3        1643.004639\n",
              "4        1605.140137\n",
              "            ...     \n",
              "26299    2641.618652\n",
              "26300    2553.651855\n",
              "26301    2526.604980\n",
              "26302    2475.007568\n",
              "26303    2328.318115\n",
              "Name: energy, Length: 26304, dtype: float32"
            ]
          },
          "metadata": {},
          "execution_count": 80
        }
      ]
    }
  ]
}